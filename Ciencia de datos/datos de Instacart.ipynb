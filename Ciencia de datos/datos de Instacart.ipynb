{
 "cells": [
  {
   "cell_type": "markdown",
   "id": "e31a2dc0-3e51-4514-8ecc-cde29711b745",
   "metadata": {},
   "source": [
    "<div class=\"alert alert-block alert-success\">\n",
    "<b>Comentario general del revisor</b> <a class=\"tocSkip\"></a><br />\n",
    "Status del proyecto: <b>Aprobado</b>\n",
    "</div>\n"
   ]
  },
  {
   "cell_type": "markdown",
   "id": "86efc309-7572-46a3-9df3-1ae10341b2e7",
   "metadata": {},
   "source": [
    "¡Hola!<br />\n",
    "Soy **Francisco Cortés**, estoy contento de revisar tu proyecto y ser parte de tu proceso de aprendizaje.\n",
    "A lo largo del texto, haré algunas observaciones sobre mejoras en el código y también haré comentarios sobre tus percepciones sobre el tema. Si existe algún error en el código, no te preocupes, estoy aquí para ayudarte a mejorarlo, en la primera iteración te lo señalaré para que tengas la oportunidad de corregirlo, pero si aún no encuentras una solución para esta tarea, te daré una pista más precisa en la próxima iteración y también algunos ejemplos prácticos. Estaré abierto a retroalimentación y discusiones sobre el tema.<br />\n",
    "Encontrarás mis comentarios a continuación - **por favor no los muevas, modifiques o borres**.\n",
    "Revisaré cuidadosamente tu código para comprobar que se han cumplido con los requisitos y te proporcionaré mis comentarios en cajas verdes, amarillas o rojas como esta:\n",
    "\n",
    "<div class=\"alert alert-block alert-success\">\n",
    "<b>Comentario del revisor</b> <a class=\"tocSkip\"></a>\n",
    "\n",
    "Si la ejecución fue perfecta succesfully.\n",
    "</div>\n",
    "\n",
    "<div class=\"alert alert-block alert-warning\">\n",
    "<b>Comentario del revisor</b> <a class=\"tocSkip\"></a>\n",
    "\n",
    "Si existe alguna recomendación para que tu código mejore.\n",
    "</div>\n",
    "\n",
    "<div class=\"alert alert-block alert-danger\">\n",
    "\n",
    "<b>Comentario del revisor</b> <a class=\"tocSkip\"></a>\n",
    "\n",
    "Si existen correcciones necesarias para cumplir con los requisitos. El trabajo no puede ser aceptado si hay alguna caja roja.\n",
    "</div>\n",
    "\n",
    "Puedes responderme de la siguiente manera:\n",
    "\n",
    "<div class=\"alert alert-block alert-info\">\n",
    "<b>Respuesta del estudiante.</b> <a class=\"tocSkip\"></a>\n",
    "</div>\n"
   ]
  },
  {
   "cell_type": "markdown",
   "id": "3Xg_RQfnafXz",
   "metadata": {
    "id": "3Xg_RQfnafXz"
   },
   "source": [
    "# ¡Llena ese carrito!"
   ]
  },
  {
   "cell_type": "markdown",
   "id": "mhIvmmkW414q",
   "metadata": {
    "id": "mhIvmmkW414q"
   },
   "source": [
    "# Introducción\n",
    "\n",
    "Instacart es una plataforma de entregas de comestibles donde la clientela puede registrar un pedido y hacer que se lo entreguen, similar a Uber Eats y Door Dash.\n",
    "El conjunto de datos que te hemos proporcionado tiene modificaciones del original. Redujimos el tamaño del conjunto para que tus cálculos se hicieran más rápido e introdujimos valores ausentes y duplicados. Tuvimos cuidado de conservar las distribuciones de los datos originales cuando hicimos los cambios.\n",
    "\n",
    "Debes completar tres pasos. Para cada uno de ellos, escribe una breve introducción que refleje con claridad cómo pretendes resolver cada paso, y escribe párrafos explicatorios que justifiquen tus decisiones al tiempo que avanzas en tu solución.  También escribe una conclusión que resuma tus hallazgos y elecciones.\n"
   ]
  },
  {
   "cell_type": "markdown",
   "id": "3MbyzpOQZ5Or",
   "metadata": {
    "id": "3MbyzpOQZ5Or"
   },
   "source": [
    "## Diccionario de datos\n",
    "\n",
    "Hay cinco tablas en el conjunto de datos, y tendrás que usarlas todas para hacer el preprocesamiento de datos y el análisis exploratorio de datos. A continuación se muestra un diccionario de datos que enumera las columnas de cada tabla y describe los datos que contienen.\n",
    "\n",
    "- `instacart_orders.csv`: cada fila corresponde a un pedido en la aplicación Instacart.\n",
    "    - `'order_id'`: número de ID que identifica de manera única cada pedido.\n",
    "    - `'user_id'`: número de ID que identifica de manera única la cuenta de cada cliente.\n",
    "    - `'order_number'`: el número de veces que este cliente ha hecho un pedido.\n",
    "    - `'order_dow'`: día de la semana en que se hizo el pedido (0 si es domingo).\n",
    "    - `'order_hour_of_day'`: hora del día en que se hizo el pedido.\n",
    "    - `'days_since_prior_order'`: número de días transcurridos desde que este cliente hizo su pedido anterior.\n",
    "- `products.csv`: cada fila corresponde a un producto único que pueden comprar los clientes.\n",
    "    - `'product_id'`: número ID que identifica de manera única cada producto.\n",
    "    - `'product_name'`: nombre del producto.\n",
    "    - `'aisle_id'`: número ID que identifica de manera única cada categoría de pasillo de víveres.\n",
    "    - `'department_id'`: número ID que identifica de manera única cada departamento de víveres.\n",
    "- `order_products.csv`: cada fila corresponde a un artículo pedido en un pedido.\n",
    "    - `'order_id'`: número de ID que identifica de manera única cada pedido.\n",
    "    - `'product_id'`: número ID que identifica de manera única cada producto.\n",
    "    - `'add_to_cart_order'`: el orden secuencial en el que se añadió cada artículo en el carrito.\n",
    "    - `'reordered'`: 0 si el cliente nunca ha pedido este producto antes, 1 si lo ha pedido.\n",
    "- `aisles.csv`\n",
    "    - `'aisle_id'`: número ID que identifica de manera única cada categoría de pasillo de víveres.\n",
    "    - `'aisle'`: nombre del pasillo.\n",
    "- `departments.csv`\n",
    "    - `'department_id'`: número ID que identifica de manera única cada departamento de víveres.\n",
    "    - `'department'`: nombre del departamento."
   ]
  },
  {
   "cell_type": "markdown",
   "id": "n3Ha_cNSZ8lK",
   "metadata": {
    "id": "n3Ha_cNSZ8lK"
   },
   "source": [
    "# Paso 1. Descripción de los datos\n",
    "\n",
    "Lee los archivos de datos (`/datasets/instacart_orders.csv`, `/datasets/products.csv`, `/datasets/aisles.csv`, `/datasets/departments.csv` y `/datasets/order_products.csv`) con `pd.read_csv()` usando los parámetros adecuados para leer los datos correctamente. Verifica la información para cada DataFrame creado.\n"
   ]
  },
  {
   "cell_type": "markdown",
   "id": "OmlQPLlyaAfR",
   "metadata": {
    "id": "OmlQPLlyaAfR"
   },
   "source": [
    "## Plan de solución\n",
    "\n",
    "leer los dataframes\n"
   ]
  },
  {
   "cell_type": "code",
   "execution_count": 1,
   "id": "fbf1adab",
   "metadata": {
    "id": "fbf1adab"
   },
   "outputs": [],
   "source": [
    "# importar librerías\n",
    "import pandas as pd\n",
    "from matplotlib import pyplot as plt"
   ]
  },
  {
   "cell_type": "code",
   "execution_count": 2,
   "id": "ad36396d",
   "metadata": {
    "id": "ad36396d"
   },
   "outputs": [],
   "source": [
    "# leer conjuntos de datos en los DataFrames\n",
    "df_instacart_orders = pd.read_csv(\"/datasets/instacart_orders.csv\",sep=\";\")\n",
    "df_products = pd.read_csv(\"/datasets/products.csv\",sep=\";\")\n",
    "df_order_products = pd.read_csv(\"/datasets/order_products.csv\",sep=\";\")\n",
    "df_aisles = pd.read_csv(\"/datasets/aisles.csv\",sep=\";\")\n",
    "df_departments = pd.read_csv(\"/datasets/departments.csv\",sep=\";\")"
   ]
  },
  {
   "cell_type": "code",
   "execution_count": 3,
   "id": "ad6a1efa",
   "metadata": {
    "id": "ad6a1efa"
   },
   "outputs": [
    {
     "name": "stdout",
     "output_type": "stream",
     "text": [
      "<class 'pandas.core.frame.DataFrame'>\n",
      "RangeIndex: 478967 entries, 0 to 478966\n",
      "Data columns (total 6 columns):\n",
      " #   Column                  Non-Null Count   Dtype  \n",
      "---  ------                  --------------   -----  \n",
      " 0   order_id                478967 non-null  int64  \n",
      " 1   user_id                 478967 non-null  int64  \n",
      " 2   order_number            478967 non-null  int64  \n",
      " 3   order_dow               478967 non-null  int64  \n",
      " 4   order_hour_of_day       478967 non-null  int64  \n",
      " 5   days_since_prior_order  450148 non-null  float64\n",
      "dtypes: float64(1), int64(5)\n",
      "memory usage: 21.9 MB\n",
      "   order_id  user_id  order_number  order_dow  order_hour_of_day  \\\n",
      "0   1515936   183418            11          6                 13   \n",
      "1   1690866   163593             5          5                 12   \n",
      "2   1454967    39980             4          5                 19   \n",
      "3   1768857    82516            56          0                 20   \n",
      "4   3007858   196724             2          4                 12   \n",
      "\n",
      "   days_since_prior_order  \n",
      "0                    30.0  \n",
      "1                     9.0  \n",
      "2                     2.0  \n",
      "3                    10.0  \n",
      "4                    17.0  \n"
     ]
    }
   ],
   "source": [
    "# mostrar información del DataFrame\n",
    "df_instacart_orders.info()\n",
    "print(df_instacart_orders.head())"
   ]
  },
  {
   "cell_type": "code",
   "execution_count": 4,
   "id": "5130e05e",
   "metadata": {
    "id": "5130e05e"
   },
   "outputs": [
    {
     "name": "stdout",
     "output_type": "stream",
     "text": [
      "<class 'pandas.core.frame.DataFrame'>\n",
      "RangeIndex: 49694 entries, 0 to 49693\n",
      "Data columns (total 4 columns):\n",
      " #   Column         Non-Null Count  Dtype \n",
      "---  ------         --------------  ----- \n",
      " 0   product_id     49694 non-null  int64 \n",
      " 1   product_name   48436 non-null  object\n",
      " 2   aisle_id       49694 non-null  int64 \n",
      " 3   department_id  49694 non-null  int64 \n",
      "dtypes: int64(3), object(1)\n",
      "memory usage: 1.5+ MB\n",
      "   product_id                                       product_name  aisle_id  \\\n",
      "0           1                         Chocolate Sandwich Cookies        61   \n",
      "1           2                                   All-Seasons Salt       104   \n",
      "2           3               Robust Golden Unsweetened Oolong Tea        94   \n",
      "3           4  Smart Ones Classic Favorites Mini Rigatoni Wit...        38   \n",
      "4           5                          Green Chile Anytime Sauce         5   \n",
      "\n",
      "   department_id  \n",
      "0             19  \n",
      "1             13  \n",
      "2              7  \n",
      "3              1  \n",
      "4             13  \n"
     ]
    }
   ],
   "source": [
    "# mostrar información del DataFrame\n",
    "df_products.info()\n",
    "print(df_products.head())"
   ]
  },
  {
   "cell_type": "code",
   "execution_count": 5,
   "id": "d8370c05",
   "metadata": {
    "id": "d8370c05"
   },
   "outputs": [
    {
     "name": "stdout",
     "output_type": "stream",
     "text": [
      "<class 'pandas.core.frame.DataFrame'>\n",
      "RangeIndex: 4545007 entries, 0 to 4545006\n",
      "Data columns (total 4 columns):\n",
      " #   Column             Dtype  \n",
      "---  ------             -----  \n",
      " 0   order_id           int64  \n",
      " 1   product_id         int64  \n",
      " 2   add_to_cart_order  float64\n",
      " 3   reordered          int64  \n",
      "dtypes: float64(1), int64(3)\n",
      "memory usage: 138.7 MB\n",
      "   order_id  product_id  add_to_cart_order  reordered\n",
      "0   2141543       11440               17.0          0\n",
      "1    567889        1560                1.0          1\n",
      "2   2261212       26683                1.0          1\n",
      "3    491251        8670               35.0          1\n",
      "4   2571142        1940                5.0          1\n"
     ]
    }
   ],
   "source": [
    "# mostrar información del DataFrame\n",
    "df_order_products.info()\n",
    "print(df_order_products.head())"
   ]
  },
  {
   "cell_type": "code",
   "execution_count": 6,
   "id": "59e2090f",
   "metadata": {
    "id": "59e2090f"
   },
   "outputs": [
    {
     "name": "stdout",
     "output_type": "stream",
     "text": [
      "<class 'pandas.core.frame.DataFrame'>\n",
      "RangeIndex: 134 entries, 0 to 133\n",
      "Data columns (total 2 columns):\n",
      " #   Column    Non-Null Count  Dtype \n",
      "---  ------    --------------  ----- \n",
      " 0   aisle_id  134 non-null    int64 \n",
      " 1   aisle     134 non-null    object\n",
      "dtypes: int64(1), object(1)\n",
      "memory usage: 2.2+ KB\n",
      "   aisle_id                       aisle\n",
      "0         1       prepared soups salads\n",
      "1         2           specialty cheeses\n",
      "2         3         energy granola bars\n",
      "3         4               instant foods\n",
      "4         5  marinades meat preparation\n"
     ]
    }
   ],
   "source": [
    "# mostrar información del DataFrame\n",
    "df_aisles.info()\n",
    "print(df_aisles.head())"
   ]
  },
  {
   "cell_type": "code",
   "execution_count": 7,
   "id": "6fc81694",
   "metadata": {
    "id": "6fc81694"
   },
   "outputs": [
    {
     "name": "stdout",
     "output_type": "stream",
     "text": [
      "<class 'pandas.core.frame.DataFrame'>\n",
      "RangeIndex: 21 entries, 0 to 20\n",
      "Data columns (total 2 columns):\n",
      " #   Column         Non-Null Count  Dtype \n",
      "---  ------         --------------  ----- \n",
      " 0   department_id  21 non-null     int64 \n",
      " 1   department     21 non-null     object\n",
      "dtypes: int64(1), object(1)\n",
      "memory usage: 464.0+ bytes\n",
      "   department_id department\n",
      "0              1     frozen\n",
      "1              2      other\n",
      "2              3     bakery\n",
      "3              4    produce\n",
      "4              5    alcohol\n"
     ]
    }
   ],
   "source": [
    "# mostrar información del DataFrame\n",
    "df_departments.info()\n",
    "print(df_departments.head())"
   ]
  },
  {
   "cell_type": "markdown",
   "id": "709d6f7d-56de-42a2-9d0b-677793382e45",
   "metadata": {},
   "source": [
    "<div class=\"alert alert-block alert-success\">\n",
    "<b>Comentario del revisor</b> <a class=\"tocSkip\"></a><br />\n",
    "Correcto!<br/>\n",
    "Buena manera de leer los datos y buenas observaciones iniciales.<br/>\n",
    "    \n",
    "La razón del porque no te aparecen todos los valores del dataframe `df_order_products` es porque es contiene mucha información y pandas trata de optimizar esto al no mostrar los resultados, pero le podemos indicar que lo haga de cualquier manera utilizando el siguiente argumento:\n",
    "    \n",
    "```\n",
    "df_order_products.info(show_counts=True)    \n",
    "```    \n",
    "</div>\n"
   ]
  },
  {
   "cell_type": "markdown",
   "id": "t75BD19oaR5f",
   "metadata": {
    "id": "t75BD19oaR5f"
   },
   "source": [
    "## Conclusiones\n",
    "\n",
    "comparten cosas como el product id\n"
   ]
  },
  {
   "cell_type": "markdown",
   "id": "8RJHqxVmaVsF",
   "metadata": {
    "id": "8RJHqxVmaVsF"
   },
   "source": [
    "# Paso 2. Preprocesamiento de los datos\n",
    "\n",
    "Preprocesa los datos de la siguiente manera:\n",
    "\n",
    "- Verifica y corrige los tipos de datos (por ejemplo, asegúrate de que las columnas de ID sean números enteros).\n",
    "- Identifica y completa los valores ausentes.\n",
    "- Identifica y elimina los valores duplicados.\n",
    "\n",
    "Asegúrate de explicar qué tipos de valores ausentes y duplicados encontraste, cómo los completaste o eliminaste y por qué usaste esos métodos. ¿Por qué crees que estos valores ausentes y duplicados pueden haber estado presentes en el conjunto de datos?"
   ]
  },
  {
   "cell_type": "markdown",
   "id": "p6poABZQaZYb",
   "metadata": {
    "id": "p6poABZQaZYb"
   },
   "source": [
    "## Plan de solución\n",
    "\n",
    "entender que contienen los dataframes"
   ]
  },
  {
   "cell_type": "markdown",
   "id": "07357848-dc64-4156-9cc3-01ff4365226d",
   "metadata": {
    "id": "07357848-dc64-4156-9cc3-01ff4365226d"
   },
   "source": [
    "## Encuentra y elimina los valores duplicados (y describe cómo tomaste tus decisiones)."
   ]
  },
  {
   "cell_type": "markdown",
   "id": "f179f0a9",
   "metadata": {
    "id": "f179f0a9"
   },
   "source": [
    "### `orders` data frame"
   ]
  },
  {
   "cell_type": "code",
   "execution_count": 8,
   "id": "b99297a5-405a-463d-8535-9adc3da4ad74",
   "metadata": {
    "id": "b99297a5-405a-463d-8535-9adc3da4ad74"
   },
   "outputs": [
    {
     "name": "stdout",
     "output_type": "stream",
     "text": [
      "15\n"
     ]
    }
   ],
   "source": [
    "# Revisa si hay pedidos duplicados\n",
    "print(df_instacart_orders.duplicated().sum())"
   ]
  },
  {
   "cell_type": "markdown",
   "id": "PEkwUX_gvt5A",
   "metadata": {
    "id": "PEkwUX_gvt5A"
   },
   "source": [
    "¿Tienes líneas duplicadas? Si sí, ¿qué tienen en común?"
   ]
  },
  {
   "cell_type": "code",
   "execution_count": 9,
   "id": "0d44de5d",
   "metadata": {
    "id": "0d44de5d",
    "scrolled": true
   },
   "outputs": [
    {
     "name": "stdout",
     "output_type": "stream",
     "text": [
      "        order_id  user_id  order_number  order_dow  order_hour_of_day  \\\n",
      "4838     2766110   162084            41          3                  2   \n",
      "5156     2190225   138285            18          3                  2   \n",
      "15506     553049    58599            13          3                  2   \n",
      "18420     382357   120200            19          3                  2   \n",
      "24691     690242    77357             2          3                  2   \n",
      "...          ...      ...           ...        ...                ...   \n",
      "457013   3384021    14881             6          3                  2   \n",
      "458816    910166   164782            18          3                  2   \n",
      "459635   1680532   106435             6          3                  2   \n",
      "468324    222962    54979            59          3                  2   \n",
      "477526   2592344    46860            38          3                  2   \n",
      "\n",
      "        days_since_prior_order  \n",
      "4838                      16.0  \n",
      "5156                      11.0  \n",
      "15506                      7.0  \n",
      "18420                     11.0  \n",
      "24691                      9.0  \n",
      "...                        ...  \n",
      "457013                    30.0  \n",
      "458816                     4.0  \n",
      "459635                    21.0  \n",
      "468324                     3.0  \n",
      "477526                     3.0  \n",
      "\n",
      "[121 rows x 6 columns]\n"
     ]
    }
   ],
   "source": [
    "# Basándote en tus hallazgos,\n",
    "# Verifica todos los pedidos que se hicieron el miércoles a las 2:00 a.m.\n",
    "print(df_instacart_orders[(df_instacart_orders[\"order_dow\"]==3) & (df_instacart_orders[\"order_hour_of_day\"]==2)])"
   ]
  },
  {
   "cell_type": "markdown",
   "id": "vu2OWyoqwOx5",
   "metadata": {
    "id": "vu2OWyoqwOx5"
   },
   "source": [
    "¿Qué sugiere este resultado?"
   ]
  },
  {
   "cell_type": "code",
   "execution_count": 10,
   "id": "480563c7",
   "metadata": {
    "id": "480563c7"
   },
   "outputs": [],
   "source": [
    "# Elimina los pedidos duplicados\n",
    "df_instacart_orders.drop_duplicates(inplace=True)"
   ]
  },
  {
   "cell_type": "code",
   "execution_count": 11,
   "id": "0b2396a2",
   "metadata": {
    "id": "0b2396a2"
   },
   "outputs": [
    {
     "name": "stdout",
     "output_type": "stream",
     "text": [
      "0\n"
     ]
    }
   ],
   "source": [
    "# Vuelve a verificar si hay filas duplicadas\n",
    "print(df_instacart_orders.duplicated().sum())"
   ]
  },
  {
   "cell_type": "code",
   "execution_count": 12,
   "id": "f6113ef1",
   "metadata": {
    "id": "f6113ef1"
   },
   "outputs": [
    {
     "name": "stdout",
     "output_type": "stream",
     "text": [
      "0\n"
     ]
    }
   ],
   "source": [
    "# Vuelve a verificar únicamente si hay IDs duplicados de pedidos\n",
    "print(df_instacart_orders['order_id'].duplicated().sum())"
   ]
  },
  {
   "cell_type": "markdown",
   "id": "5e8905ae",
   "metadata": {
    "id": "5e8905ae"
   },
   "source": [
    "al ver que se tenian datos duplicados los empece a eliminar"
   ]
  },
  {
   "cell_type": "markdown",
   "id": "6446619e-ad26-4efc-b860-192afeaf3563",
   "metadata": {},
   "source": [
    "<div class=\"alert alert-block alert-success\">\n",
    "<b>Comentario del revisor</b> <a class=\"tocSkip\"></a><br />\n",
    "Bien hecho!<br/>\n",
    "Los duplicados fueron eliminados correctamente\n",
    "</div>\n"
   ]
  },
  {
   "cell_type": "markdown",
   "id": "45e6bc46",
   "metadata": {
    "id": "45e6bc46"
   },
   "source": [
    "### `products` data frame"
   ]
  },
  {
   "cell_type": "code",
   "execution_count": 13,
   "id": "5f526b5b-8175-46fa-a0fd-441767d50e64",
   "metadata": {
    "id": "5f526b5b-8175-46fa-a0fd-441767d50e64"
   },
   "outputs": [
    {
     "name": "stdout",
     "output_type": "stream",
     "text": [
      "0\n"
     ]
    }
   ],
   "source": [
    "# Verifica si hay filas totalmente duplicadas\n",
    "print(df_products.duplicated().sum())"
   ]
  },
  {
   "cell_type": "code",
   "execution_count": 14,
   "id": "88daa4f4",
   "metadata": {
    "id": "88daa4f4"
   },
   "outputs": [
    {
     "name": "stdout",
     "output_type": "stream",
     "text": [
      "0\n"
     ]
    }
   ],
   "source": [
    "# Revisa únicamente si hay ID de productos duplicados\n",
    "print(df_products['product_id'].duplicated().sum())"
   ]
  },
  {
   "cell_type": "code",
   "execution_count": 15,
   "id": "c773f0bf",
   "metadata": {
    "id": "c773f0bf"
   },
   "outputs": [
    {
     "name": "stdout",
     "output_type": "stream",
     "text": [
      "1361\n"
     ]
    }
   ],
   "source": [
    "# Revisa únicamente si hay nombres duplicados de productos (convierte los nombres a letras mayúsculas para compararlos mejor)\n",
    "df_products_names_upper = df_products['product_name'].str.upper()\n",
    "print(df_products_names_upper.duplicated().sum())"
   ]
  },
  {
   "cell_type": "code",
   "execution_count": 16,
   "id": "01efd02e",
   "metadata": {
    "id": "01efd02e"
   },
   "outputs": [
    {
     "name": "stdout",
     "output_type": "stream",
     "text": [
      "1258\n"
     ]
    }
   ],
   "source": [
    "# Revisa si hay nombres duplicados de productos no faltantes\n",
    "print(df_products_names_upper.isna().sum())"
   ]
  },
  {
   "cell_type": "markdown",
   "id": "9da8d293",
   "metadata": {
    "id": "9da8d293"
   },
   "source": [
    "al revisar que no hay duplicados hay que revisar si hay faltantes\n"
   ]
  },
  {
   "cell_type": "markdown",
   "id": "ed654c9f-d8c2-4d83-93b9-b62fb0088821",
   "metadata": {},
   "source": [
    "<div class=\"alert alert-block alert-success\">\n",
    "<b>Comentario del revisor</b> <a class=\"tocSkip\"></a><br />\n",
    "Bien hecho!<br/>\n",
    "Los datos han sido revisados apropiadamente\n",
    "</div>\n"
   ]
  },
  {
   "cell_type": "markdown",
   "id": "60f30db1",
   "metadata": {
    "id": "60f30db1"
   },
   "source": [
    "### `departments` data frame"
   ]
  },
  {
   "cell_type": "code",
   "execution_count": 17,
   "id": "fb410ad4-0fbf-4b80-bb09-23fdea79afe3",
   "metadata": {
    "id": "fb410ad4-0fbf-4b80-bb09-23fdea79afe3"
   },
   "outputs": [
    {
     "name": "stdout",
     "output_type": "stream",
     "text": [
      "0\n"
     ]
    }
   ],
   "source": [
    "# Revisa si hay filas totalmente duplicadas\n",
    "print(df_departments.duplicated().sum())"
   ]
  },
  {
   "cell_type": "code",
   "execution_count": 18,
   "id": "332b12bb",
   "metadata": {
    "id": "332b12bb"
   },
   "outputs": [
    {
     "name": "stdout",
     "output_type": "stream",
     "text": [
      "0\n"
     ]
    }
   ],
   "source": [
    "# Revisa únicamente si hay IDs duplicadas de departamentos\n",
    "print(df_departments['department_id'].duplicated().sum())"
   ]
  },
  {
   "cell_type": "markdown",
   "id": "bd30d78e",
   "metadata": {
    "id": "bd30d78e"
   },
   "source": [
    "Describe brevemente tus hallazgos y lo que hiciste con ellos."
   ]
  },
  {
   "cell_type": "markdown",
   "id": "889349c1",
   "metadata": {
    "id": "889349c1"
   },
   "source": [
    "### `aisles` data frame"
   ]
  },
  {
   "cell_type": "code",
   "execution_count": 19,
   "id": "9da89fb9-4679-40f5-ad0d-c34df753a3f8",
   "metadata": {
    "id": "9da89fb9-4679-40f5-ad0d-c34df753a3f8"
   },
   "outputs": [
    {
     "name": "stdout",
     "output_type": "stream",
     "text": [
      "0\n"
     ]
    }
   ],
   "source": [
    "# Revisa si hay filas totalmente duplicadas\n",
    "print(df_aisles.duplicated().sum())"
   ]
  },
  {
   "cell_type": "code",
   "execution_count": 20,
   "id": "da7c2822",
   "metadata": {
    "id": "da7c2822"
   },
   "outputs": [
    {
     "name": "stdout",
     "output_type": "stream",
     "text": [
      "0\n"
     ]
    }
   ],
   "source": [
    "# Revisa únicamente si hay IDs duplicadas de pasillos \n",
    "print(df_aisles['aisle'].duplicated().sum())"
   ]
  },
  {
   "cell_type": "markdown",
   "id": "ac63826f",
   "metadata": {
    "id": "ac63826f"
   },
   "source": [
    "Describe brevemente tus hallazgos y lo que hiciste con ellos."
   ]
  },
  {
   "cell_type": "markdown",
   "id": "274cd06a",
   "metadata": {
    "id": "274cd06a"
   },
   "source": [
    "### `order_products` data frame"
   ]
  },
  {
   "cell_type": "code",
   "execution_count": 21,
   "id": "52326689-84a8-4b8f-a881-7c68780f62c9",
   "metadata": {
    "id": "52326689-84a8-4b8f-a881-7c68780f62c9"
   },
   "outputs": [
    {
     "name": "stdout",
     "output_type": "stream",
     "text": [
      "0\n"
     ]
    }
   ],
   "source": [
    "# Revisa si hay filas totalmente duplicadas\n",
    "print(df_order_products.duplicated().sum())"
   ]
  },
  {
   "cell_type": "code",
   "execution_count": 22,
   "id": "7b861391",
   "metadata": {
    "id": "7b861391"
   },
   "outputs": [
    {
     "name": "stdout",
     "output_type": "stream",
     "text": [
      "4094961\n",
      "4499434\n",
      "4544942\n",
      "4545005\n"
     ]
    }
   ],
   "source": [
    "# Vuelve a verificar si hay cualquier otro duplicado engañoso\n",
    "\n",
    "for column in df_order_products.columns:\n",
    "    print(df_order_products[column].duplicated().sum())\n"
   ]
  },
  {
   "cell_type": "markdown",
   "id": "0b890492",
   "metadata": {
    "id": "0b890492"
   },
   "source": [
    "se puede tener valores duplicados ocultos"
   ]
  },
  {
   "cell_type": "markdown",
   "id": "caaac697-e47e-445f-9ffa-08415979bbc2",
   "metadata": {},
   "source": [
    "<div class=\"alert alert-block alert-success\">\n",
    "<b>Comentario del revisor</b> <a class=\"tocSkip\"></a><br />\n",
    "Correcto!<br/>\n",
    "Estos últimos dataframes no cuentan con filas totalmente duplicadas.\n",
    "\n",
    "</div>\n"
   ]
  },
  {
   "cell_type": "markdown",
   "id": "1e46de76",
   "metadata": {
    "id": "1e46de76"
   },
   "source": [
    "## Encuentra y elimina los valores ausentes\n",
    "\n",
    "Al trabajar con valores duplicados, pudimos observar que también nos falta investigar valores ausentes:\n",
    "\n",
    "* La columna `'product_name'` de la tabla products.\n",
    "* La columna `'days_since_prior_order'` de la tabla orders.\n",
    "* La columna `'add_to_cart_order'` de la tabla order_productos."
   ]
  },
  {
   "cell_type": "markdown",
   "id": "c0aebd78",
   "metadata": {
    "id": "c0aebd78"
   },
   "source": [
    "### `products` data frame"
   ]
  },
  {
   "cell_type": "code",
   "execution_count": 23,
   "id": "fe4a8b0f",
   "metadata": {
    "id": "fe4a8b0f"
   },
   "outputs": [
    {
     "data": {
      "text/plain": [
       "False    48436\n",
       "True      1258\n",
       "Name: product_name, dtype: int64"
      ]
     },
     "execution_count": 23,
     "metadata": {},
     "output_type": "execute_result"
    }
   ],
   "source": [
    "# Encuentra los valores ausentes en la columna 'product_name'\n",
    "df_products['product_name'].isna().value_counts()"
   ]
  },
  {
   "cell_type": "markdown",
   "id": "-A6x1AbJhjkp",
   "metadata": {
    "id": "-A6x1AbJhjkp"
   },
   "source": [
    "pueden haber valores ausentes"
   ]
  },
  {
   "cell_type": "code",
   "execution_count": 24,
   "id": "e96167bc",
   "metadata": {
    "id": "e96167bc"
   },
   "outputs": [
    {
     "name": "stdout",
     "output_type": "stream",
     "text": [
      "(1258, 4)\n"
     ]
    },
    {
     "data": {
      "text/plain": [
       "100    1258\n",
       "Name: aisle_id, dtype: int64"
      ]
     },
     "execution_count": 24,
     "metadata": {},
     "output_type": "execute_result"
    }
   ],
   "source": [
    "#  ¿Todos los nombres de productos ausentes están relacionados con el pasillo con ID 100?\n",
    "df_products_ausente=df_products[df_products['product_name'].isna()]\n",
    "print(df_products_ausente.shape)\n",
    "df_products_ausente['aisle_id'].value_counts()"
   ]
  },
  {
   "cell_type": "markdown",
   "id": "WRpIfXRphpSL",
   "metadata": {
    "id": "WRpIfXRphpSL"
   },
   "source": [
    "todos se relacionaron con la id 100"
   ]
  },
  {
   "cell_type": "code",
   "execution_count": 25,
   "id": "8fd0a541",
   "metadata": {
    "id": "8fd0a541"
   },
   "outputs": [
    {
     "data": {
      "text/plain": [
       "21    1258\n",
       "Name: department_id, dtype: int64"
      ]
     },
     "execution_count": 25,
     "metadata": {},
     "output_type": "execute_result"
    }
   ],
   "source": [
    "# ¿Todos los nombres de productos ausentes están relacionados con el departamento con ID 21?\n",
    "df_products_ausente['department_id'].value_counts()"
   ]
  },
  {
   "cell_type": "markdown",
   "id": "qDpdYn1Fht_I",
   "metadata": {
    "id": "qDpdYn1Fht_I"
   },
   "source": [
    "todos se relacionaron con la id 21"
   ]
  },
  {
   "cell_type": "code",
   "execution_count": 26,
   "id": "325c3464",
   "metadata": {
    "id": "325c3464"
   },
   "outputs": [
    {
     "name": "stdout",
     "output_type": "stream",
     "text": [
      "       product_id                                       product_name  \\\n",
      "0               1                         Chocolate Sandwich Cookies   \n",
      "1               2                                   All-Seasons Salt   \n",
      "2               3               Robust Golden Unsweetened Oolong Tea   \n",
      "3               4  Smart Ones Classic Favorites Mini Rigatoni Wit...   \n",
      "4               5                          Green Chile Anytime Sauce   \n",
      "...           ...                                                ...   \n",
      "49689       49690                      HIGH PERFORMANCE ENERGY DRINK   \n",
      "49690       49691                      ORIGINAL PANCAKE & WAFFLE MIX   \n",
      "49691       49692    ORGANIC INSTANT OATMEAL LIGHT MAPLE BROWN SUGAR   \n",
      "49692       49693                             SPRING WATER BODY WASH   \n",
      "49693       49694                            BURRITO- STEAK & CHEESE   \n",
      "\n",
      "       aisle_id  department_id                       aisle     department  \n",
      "0            61             19               cookies cakes         snacks  \n",
      "1           104             13           spices seasonings         pantry  \n",
      "2            94              7                         tea      beverages  \n",
      "3            38              1                frozen meals         frozen  \n",
      "4             5             13  marinades meat preparation         pantry  \n",
      "...         ...            ...                         ...            ...  \n",
      "49689        64              7        energy sports drinks      beverages  \n",
      "49690       130             14    hot cereal pancake mixes      breakfast  \n",
      "49691       130             14    hot cereal pancake mixes      breakfast  \n",
      "49692       127             11           body lotions soap  personal care  \n",
      "49693        38              1                frozen meals         frozen  \n",
      "\n",
      "[49694 rows x 6 columns]\n",
      "       product_id product_name  aisle_id  department_id    aisle department\n",
      "37             38          NaN       100             21  missing    missing\n",
      "71             72          NaN       100             21  missing    missing\n",
      "109           110          NaN       100             21  missing    missing\n",
      "296           297          NaN       100             21  missing    missing\n",
      "416           417          NaN       100             21  missing    missing\n",
      "...           ...          ...       ...            ...      ...        ...\n",
      "49552       49553          NaN       100             21  missing    missing\n",
      "49574       49575          NaN       100             21  missing    missing\n",
      "49640       49641          NaN       100             21  missing    missing\n",
      "49663       49664          NaN       100             21  missing    missing\n",
      "49668       49669          NaN       100             21  missing    missing\n",
      "\n",
      "[1258 rows x 6 columns]\n",
      "       product_id product_name  aisle_id  department_id    aisle department\n",
      "37             38          NaN       100             21  missing    missing\n",
      "71             72          NaN       100             21  missing    missing\n",
      "109           110          NaN       100             21  missing    missing\n",
      "296           297          NaN       100             21  missing    missing\n",
      "416           417          NaN       100             21  missing    missing\n",
      "...           ...          ...       ...            ...      ...        ...\n",
      "49552       49553          NaN       100             21  missing    missing\n",
      "49574       49575          NaN       100             21  missing    missing\n",
      "49640       49641          NaN       100             21  missing    missing\n",
      "49663       49664          NaN       100             21  missing    missing\n",
      "49668       49669          NaN       100             21  missing    missing\n",
      "\n",
      "[1258 rows x 6 columns]\n"
     ]
    }
   ],
   "source": [
    "# Usa las tablas department y aisle para revisar los datos del pasillo con ID 100 y el departamento con ID 21.\n",
    "df_merge_aisle = df_products.merge(df_aisles, on='aisle_id', how='left')\n",
    "df_merge_department = df_merge_aisle.merge(df_departments, on='department_id', how='left')\n",
    "print(df_merge_department)\n",
    "print(df_merge_department[df_merge_department['aisle_id']==100])\n",
    "print(df_merge_department[df_merge_department['department_id']==21])"
   ]
  },
  {
   "cell_type": "markdown",
   "id": "nqhSTUPhhvEJ",
   "metadata": {
    "id": "nqhSTUPhhvEJ"
   },
   "source": [
    "estas 2 estan relaciondas en los valores faltantes."
   ]
  },
  {
   "cell_type": "code",
   "execution_count": 27,
   "id": "6b295120",
   "metadata": {
    "id": "6b295120"
   },
   "outputs": [
    {
     "name": "stdout",
     "output_type": "stream",
     "text": [
      "False    49694\n",
      "Name: product_name, dtype: int64\n"
     ]
    }
   ],
   "source": [
    "# Completa los nombres de productos ausentes con 'Unknown'\n",
    "df_products['product_name'].fillna('Unknown',inplace=True)\n",
    "print(df_products['product_name'].isna().value_counts())"
   ]
  },
  {
   "cell_type": "markdown",
   "id": "fc70e5ad",
   "metadata": {
    "id": "fc70e5ad"
   },
   "source": [
    "Describe brevemente tus hallazgos y lo que hiciste con ellos."
   ]
  },
  {
   "cell_type": "markdown",
   "id": "f5a0f3b9-6f6b-4281-83fa-4aad5eac684a",
   "metadata": {},
   "source": [
    "<div class=\"alert alert-block alert-success\">\n",
    "<b>Comentario del revisor</b> <a class=\"tocSkip\"></a><br />\n",
    "Bien hecho!<br/>\n",
    "La manera de encontrar los valores ausentes y reemplazarlos con un valor generico es correcta\n",
    "</div>\n"
   ]
  },
  {
   "cell_type": "markdown",
   "id": "7eb45c86",
   "metadata": {
    "id": "7eb45c86"
   },
   "source": [
    "### `orders` data frame"
   ]
  },
  {
   "cell_type": "code",
   "execution_count": 28,
   "id": "93e41d96",
   "metadata": {
    "id": "93e41d96"
   },
   "outputs": [
    {
     "data": {
      "text/plain": [
       "order_id  user_id  order_number  order_dow  order_hour_of_day  days_since_prior_order\n",
       "False     False    False         False      False              False                     450135\n",
       "                                                               True                       28817\n",
       "dtype: int64"
      ]
     },
     "execution_count": 28,
     "metadata": {},
     "output_type": "execute_result"
    }
   ],
   "source": [
    "# Encuentra los valores ausentes\n",
    "df_instacart_orders.isna().value_counts()"
   ]
  },
  {
   "cell_type": "code",
   "execution_count": 29,
   "id": "166e5a86",
   "metadata": {
    "id": "166e5a86"
   },
   "outputs": [
    {
     "data": {
      "text/plain": [
       "1    28817\n",
       "Name: order_number, dtype: int64"
      ]
     },
     "execution_count": 29,
     "metadata": {},
     "output_type": "execute_result"
    }
   ],
   "source": [
    "# ¿Hay algún valor ausente que no sea el primer pedido del cliente?\n",
    "df_instacart_orders_ausentes=df_instacart_orders[df_instacart_orders['days_since_prior_order'].isna()]\n",
    "df_instacart_orders_ausentes['order_number'].value_counts()"
   ]
  },
  {
   "cell_type": "markdown",
   "id": "4e23d089",
   "metadata": {
    "id": "4e23d089"
   },
   "source": [
    "Describe brevemente tus hallazgos y lo que hiciste con ellos."
   ]
  },
  {
   "cell_type": "markdown",
   "id": "4cf293c6-b9b5-4332-a24e-dbf1e9c4956e",
   "metadata": {},
   "source": [
    "<div class=\"alert alert-block alert-success\">\n",
    "<b>Comentario del revisor</b> <a class=\"tocSkip\"></a><br />\n",
    "Bien hecho!<br/>\n",
    "Buena manera de revisar los datos y encontrar que no hay ausentes que no sean un primer pedido\n",
    "</div>\n"
   ]
  },
  {
   "cell_type": "markdown",
   "id": "69dc9ca4",
   "metadata": {
    "id": "69dc9ca4"
   },
   "source": [
    "### `order_products` data frame"
   ]
  },
  {
   "cell_type": "code",
   "execution_count": 30,
   "id": "b8240253",
   "metadata": {
    "id": "b8240253"
   },
   "outputs": [
    {
     "data": {
      "text/plain": [
       "order_id  product_id  add_to_cart_order  reordered\n",
       "False     False       False              False        4544171\n",
       "                      True               False            836\n",
       "dtype: int64"
      ]
     },
     "execution_count": 30,
     "metadata": {},
     "output_type": "execute_result"
    }
   ],
   "source": [
    "# Encuentra los valores ausentes\n",
    "df_order_products.isna().value_counts()"
   ]
  },
  {
   "cell_type": "code",
   "execution_count": 31,
   "id": "9a78e5ee",
   "metadata": {
    "id": "9a78e5ee"
   },
   "outputs": [
    {
     "name": "stdout",
     "output_type": "stream",
     "text": [
      "1.0\n",
      "64.0\n"
     ]
    }
   ],
   "source": [
    "# ¿Cuáles son los valores mínimos y máximos en esta columna?\n",
    "print(df_order_products['add_to_cart_order'].min())\n",
    "print(df_order_products['add_to_cart_order'].max())"
   ]
  },
  {
   "cell_type": "markdown",
   "id": "-Z2Ja215jW78",
   "metadata": {
    "id": "-Z2Ja215jW78"
   },
   "source": [
    "Describe brevemente cuáles son tus hallazgos."
   ]
  },
  {
   "cell_type": "code",
   "execution_count": 32,
   "id": "ab9d0c2b",
   "metadata": {
    "id": "ab9d0c2b"
   },
   "outputs": [
    {
     "name": "stdout",
     "output_type": "stream",
     "text": [
      "         order_id  product_id  add_to_cart_order  reordered\n",
      "737       2449164        5068                NaN          0\n",
      "9926      1968313       43867                NaN          0\n",
      "14394     2926893       11688                NaN          0\n",
      "16418     1717990        4142                NaN          0\n",
      "30114     1959075       42828                NaN          1\n",
      "...           ...         ...                ...        ...\n",
      "4505662   1800005        7411                NaN          0\n",
      "4511400   1633337         260                NaN          0\n",
      "4517562    404157        9517                NaN          0\n",
      "4534112   1673227       17835                NaN          0\n",
      "4535739   1832957       17949                NaN          1\n",
      "\n",
      "[836 rows x 4 columns]\n"
     ]
    }
   ],
   "source": [
    "# Guarda todas las IDs de pedidos que tengan un valor ausente en 'add_to_cart_order'\n",
    "\n",
    "df_order_products_ausentes=df_order_products[df_order_products['add_to_cart_order'].isna()]\n",
    "print(df_order_products_ausentes)\n"
   ]
  },
  {
   "cell_type": "code",
   "execution_count": 33,
   "id": "54c31695",
   "metadata": {
    "id": "54c31695"
   },
   "outputs": [
    {
     "name": "stdout",
     "output_type": "stream",
     "text": [
      "el valor minimo es:  1\n",
      "una forma mas general de ver seria:  count    70.000000\n",
      "mean     11.942857\n",
      "std      12.898585\n",
      "min       1.000000\n",
      "25%       3.000000\n",
      "50%       7.000000\n",
      "75%      14.000000\n",
      "max      63.000000\n",
      "Name: product_id, dtype: float64\n"
     ]
    }
   ],
   "source": [
    "# ¿Todos los pedidos con valores ausentes tienen más de 64 productos?\n",
    "# Agrupa todos los pedidos con datos ausentes por su ID de pedido.\n",
    "# Cuenta el número de 'product_id' en cada pedido y revisa el valor mínimo del conteo.\n",
    "\n",
    "df_order_products_ausentes_conteo = df_order_products_ausentes.groupby('order_id')['product_id'].count()\n",
    "print('el valor minimo es: ',df_order_products_ausentes_conteo.min())\n",
    "\n",
    "print('una forma mas general de ver seria: ',df_order_products_ausentes_conteo.describe())"
   ]
  },
  {
   "cell_type": "markdown",
   "id": "f1868ec0-1142-464d-8a88-96b1726e8bd9",
   "metadata": {},
   "source": [
    "<div class=\"alert alert-block alert-warning\">\n",
    "<b>Comentario del revisor</b> <a class=\"tocSkip\"></a><br />\n",
    "Cuidado!<br/>\n",
    "    \n",
    "El valor minimo para ordenes que tienen valores nulos es `65`, te dejo el código en la celda de abajo\n",
    "</div>\n"
   ]
  },
  {
   "cell_type": "code",
   "execution_count": 35,
   "id": "e9ac98b1-a86c-41a2-8e3f-e422449adacd",
   "metadata": {},
   "outputs": [
    {
     "data": {
      "text/plain": [
       "65"
      ]
     },
     "execution_count": 35,
     "metadata": {},
     "output_type": "execute_result"
    }
   ],
   "source": [
    "# Código del revisor\n",
    "df_order_products[df_order_products['order_id'].isin(df_order_products_ausentes['order_id'])].groupby('order_id')['product_id'].count().min()"
   ]
  },
  {
   "cell_type": "markdown",
   "id": "p9V6pddtjglj",
   "metadata": {
    "id": "p9V6pddtjglj"
   },
   "source": [
    "Describe brevemente cuáles son tus hallazgos."
   ]
  },
  {
   "cell_type": "code",
   "execution_count": 34,
   "id": "7a987d08",
   "metadata": {
    "id": "7a987d08"
   },
   "outputs": [
    {
     "name": "stdout",
     "output_type": "stream",
     "text": [
      "         order_id  product_id  add_to_cart_order  reordered\n",
      "0         2141543       11440                 17          0\n",
      "1          567889        1560                  1          1\n",
      "2         2261212       26683                  1          1\n",
      "3          491251        8670                 35          1\n",
      "4         2571142        1940                  5          1\n",
      "...           ...         ...                ...        ...\n",
      "4545002    577211       15290                 12          1\n",
      "4545003   1219554       21914                  9          0\n",
      "4545004    692640       47766                  4          1\n",
      "4545005    319435         691                  8          1\n",
      "4545006   1398151       28733                  9          0\n",
      "\n",
      "[4545007 rows x 4 columns]\n"
     ]
    }
   ],
   "source": [
    "# Remplaza los valores ausentes en la columna 'add_to_cart? con 999 y convierte la columna al tipo entero.\n",
    "df_order_products.fillna(999,inplace=True)\n",
    "df_order_products['add_to_cart_order']=df_order_products['add_to_cart_order'].astype(int)\n",
    "print(df_order_products)"
   ]
  },
  {
   "cell_type": "markdown",
   "id": "fea4bcc7",
   "metadata": {
    "id": "fea4bcc7"
   },
   "source": [
    "Describe brevemente tus hallazgos y lo que hiciste con ellos."
   ]
  },
  {
   "cell_type": "markdown",
   "id": "ace1a001-9b89-4c42-87e8-38704867e07e",
   "metadata": {},
   "source": [
    "<div class=\"alert alert-block alert-success\">\n",
    "<b>Comentario del revisor</b> <a class=\"tocSkip\"></a><br />\n",
    "Bien hecho!<br/>\n",
    "La manera de encontrar los valores ausentes y reemplazarlos con un valor generico es correcta\n",
    "</div>\n"
   ]
  },
  {
   "cell_type": "markdown",
   "id": "RnplPFY1gSrb",
   "metadata": {
    "id": "RnplPFY1gSrb"
   },
   "source": [
    "## Conclusiones\n",
    "\n",
    "hay muchas cuestiones oculatas en los datos que tenemos que checar\n"
   ]
  },
  {
   "cell_type": "markdown",
   "id": "UjrOIwTcz3ri",
   "metadata": {
    "id": "UjrOIwTcz3ri"
   },
   "source": [
    "# Paso 3. Análisis de los datos\n",
    "\n",
    "Una vez los datos estén procesados y listos, haz el siguiente análisis:"
   ]
  },
  {
   "cell_type": "markdown",
   "id": "turkish-kidney",
   "metadata": {
    "id": "turkish-kidney"
   },
   "source": [
    "# [A] Fácil (deben completarse todos para aprobar)\n",
    "\n",
    "1. Verifica que los valores en las columnas `'order_hour_of_day'` y `'order_dow'` en la tabla orders sean razonables (es decir, `'order_hour_of_day'` oscile entre 0 y 23 y `'order_dow'` oscile entre 0 y 6).\n",
    "2. Crea un gráfico que muestre el número de personas que hacen pedidos dependiendo de la hora del día.\n",
    "3. Crea un gráfico que muestre qué día de la semana la gente hace sus compras.\n",
    "4. Crea un gráfico que muestre el tiempo que la gente espera hasta hacer su siguiente pedido, y comenta sobre los valores mínimos y máximos."
   ]
  },
  {
   "cell_type": "markdown",
   "id": "short-capability",
   "metadata": {
    "id": "short-capability"
   },
   "source": [
    "### [A1] Verifica que los valores sean sensibles"
   ]
  },
  {
   "cell_type": "code",
   "execution_count": 36,
   "id": "growing-fruit",
   "metadata": {
    "id": "growing-fruit"
   },
   "outputs": [
    {
     "name": "stdout",
     "output_type": "stream",
     "text": [
      "0 23\n"
     ]
    }
   ],
   "source": [
    "print(df_instacart_orders['order_hour_of_day'].min(),df_instacart_orders['order_hour_of_day'].max())"
   ]
  },
  {
   "cell_type": "code",
   "execution_count": 37,
   "id": "accessory-malaysia",
   "metadata": {
    "id": "accessory-malaysia"
   },
   "outputs": [
    {
     "name": "stdout",
     "output_type": "stream",
     "text": [
      "0 6\n"
     ]
    }
   ],
   "source": [
    "print(df_instacart_orders['order_dow'].min(),df_instacart_orders['order_dow'].max())"
   ]
  },
  {
   "cell_type": "markdown",
   "id": "hmR2GNQ6lCsX",
   "metadata": {
    "id": "hmR2GNQ6lCsX"
   },
   "source": [
    "Escribe aquí tus conclusiones"
   ]
  },
  {
   "cell_type": "markdown",
   "id": "c97c5dab-bb99-4713-9215-37f37a466b46",
   "metadata": {},
   "source": [
    "<div class=\"alert alert-block alert-success\">\n",
    "<b>Comentario del revisor</b> <a class=\"tocSkip\"></a><br />\n",
    "Bien hecho!<br/>\n",
    "Se verificó que los datos sean sensibles correctamente\n",
    "</div>\n"
   ]
  },
  {
   "cell_type": "markdown",
   "id": "a6743a70",
   "metadata": {
    "id": "a6743a70"
   },
   "source": [
    "### [A2] Para cada hora del día, ¿cuántas personas hacen órdenes?"
   ]
  },
  {
   "cell_type": "code",
   "execution_count": 38,
   "id": "a36cca27",
   "metadata": {
    "id": "a36cca27"
   },
   "outputs": [
    {
     "data": {
      "image/png": "[encoded data removed]",
      "text/plain": [
       "<Figure size 640x480 with 1 Axes>"
      ]
     },
     "metadata": {},
     "output_type": "display_data"
    }
   ],
   "source": [
    "df_ordenes_por_hora=df_instacart_orders['order_hour_of_day'].value_counts().sort_index()\n",
    "\n",
    "\n",
    "df_ordenes_por_hora.plot(kind='bar',title='Ventas por hora',xlabel='Hora',ylabel='cantidad de horas')\n",
    "plt.show()\n",
    "\n"
   ]
  },
  {
   "cell_type": "markdown",
   "id": "11270eed",
   "metadata": {
    "id": "11270eed"
   },
   "source": [
    "las mayores ventas se realizan entre las horeas 10 y 15"
   ]
  },
  {
   "cell_type": "markdown",
   "id": "05bb9909-aa15-46ae-b040-f1adae4696b9",
   "metadata": {},
   "source": [
    "<div class=\"alert alert-block alert-success\">\n",
    "<b>Comentario del revisor</b> <a class=\"tocSkip\"></a><br />\n",
    "Bien hecho!<br/>\n",
    "Buena manera de presentar los datos\n",
    "</div>\n"
   ]
  },
  {
   "cell_type": "markdown",
   "id": "documented-command",
   "metadata": {
    "id": "documented-command"
   },
   "source": [
    "### [A3] ¿Qué día de la semana compran víveres las personas?"
   ]
  },
  {
   "cell_type": "code",
   "execution_count": 39,
   "id": "chief-digit",
   "metadata": {
    "id": "chief-digit"
   },
   "outputs": [
    {
     "data": {
      "image/png": "[encoded data removed]",
      "text/plain": [
       "<Figure size 640x480 with 1 Axes>"
      ]
     },
     "metadata": {},
     "output_type": "display_data"
    }
   ],
   "source": [
    "df_ordenes_por_semana=df_instacart_orders['order_dow'].value_counts().sort_index()\n",
    "\n",
    "\n",
    "df_ordenes_por_semana.plot(kind='bar',title='Ventas por dia',xlabel='dias',ylabel='cantidad de horas')\n",
    "plt.show()\n",
    "\n",
    "\n"
   ]
  },
  {
   "cell_type": "markdown",
   "id": "dominant-lightning",
   "metadata": {
    "id": "dominant-lightning"
   },
   "source": [
    "el domingo y lunes son los dias de mayor venta"
   ]
  },
  {
   "cell_type": "markdown",
   "id": "fa52f0b1-c0ac-4b17-b99d-8421b099c15c",
   "metadata": {},
   "source": [
    "<div class=\"alert alert-block alert-success\">\n",
    "<b>Comentario del revisor</b> <a class=\"tocSkip\"></a><br />\n",
    "Correcto!<br/>\n",
    "Los domingos son los días preferidos de los clientes\n",
    "</div>\n"
   ]
  },
  {
   "cell_type": "markdown",
   "id": "cutting-concert",
   "metadata": {
    "id": "cutting-concert"
   },
   "source": [
    "### [A4] ¿Cuánto tiempo esperan las personas hasta hacer otro pedido? Comenta sobre los valores mínimos y máximos."
   ]
  },
  {
   "cell_type": "code",
   "execution_count": 40,
   "id": "c231f523",
   "metadata": {
    "id": "c231f523"
   },
   "outputs": [
    {
     "data": {
      "image/png": "[encoded data removed]",
      "text/plain": [
       "<Figure size 640x480 with 1 Axes>"
      ]
     },
     "metadata": {},
     "output_type": "display_data"
    }
   ],
   "source": [
    "df_ordenes_tiempo=df_instacart_orders['days_since_prior_order'].value_counts().sort_index()\n",
    "df_ordenes_tiempo.plot(kind='bar',title='dias de espera entre pedidos',xlabel='dias',ylabel='cantidad de personas')\n",
    "plt.show()\n",
    "\n"
   ]
  },
  {
   "cell_type": "markdown",
   "id": "e42ed54c-f50c-4d6d-880f-40e31ee98600",
   "metadata": {},
   "source": [
    "<div class=\"alert alert-block alert-success\">\n",
    "<b>Comentario del revisor</b> <a class=\"tocSkip\"></a><br />\n",
    "Los resultados son correctos\n",
    "<br />\n",
    "Hasta este punto no podemos saber si realmente los usuarios esperan 30 días para realizar otra compra o es el sistema el que agrupa todas las compras que sean mayores a 30 días en el día 30. Con la gráfica podemos observar que la mayoría de usuarios se concentra entre 1 y 9 días donde después los números descienden gradualmente\n",
    "</div>\n"
   ]
  },
  {
   "cell_type": "markdown",
   "id": "discrete-vertex",
   "metadata": {
    "id": "discrete-vertex"
   },
   "source": [
    "los mayores valores son de 7 dias y de 30"
   ]
  },
  {
   "cell_type": "markdown",
   "id": "tight-staff",
   "metadata": {
    "id": "tight-staff"
   },
   "source": [
    "# [B] Intermedio (deben completarse todos para aprobar)\n",
    "\n",
    "1. ¿Existe alguna diferencia entre las distribuciones `'order_hour_of_day'` de los miércoles y los sábados? Traza gráficos de barra de `'order_hour_of_day'` para ambos días en la misma figura y describe las diferencias que observes.\n",
    "2. Grafica la distribución para el número de órdenes que hacen los clientes (es decir, cuántos clientes hicieron solo 1 pedido, cuántos hicieron 2, cuántos 3, y así sucesivamente...).\n",
    "3. ¿Cuáles son los 20 principales productos que se piden con más frecuencia (muestra su identificación y nombre)?"
   ]
  },
  {
   "cell_type": "markdown",
   "id": "packed-classic",
   "metadata": {
    "id": "packed-classic"
   },
   "source": [
    "### [B1] Diferencia entre miércoles y sábados para  `'order_hour_of_day'`. Traza gráficos de barra para los dos días y describe las diferencias que veas."
   ]
  },
  {
   "cell_type": "code",
   "execution_count": 41,
   "id": "bf0d3e97-28ba-4448-975c-0807627afaf8",
   "metadata": {},
   "outputs": [
    {
     "data": {
      "text/html": [
       "<div>\n",
       "<style scoped>\n",
       "    .dataframe tbody tr th:only-of-type {\n",
       "        vertical-align: middle;\n",
       "    }\n",
       "\n",
       "    .dataframe tbody tr th {\n",
       "        vertical-align: top;\n",
       "    }\n",
       "\n",
       "    .dataframe thead th {\n",
       "        text-align: right;\n",
       "    }\n",
       "</style>\n",
       "<table border=\"1\" class=\"dataframe\">\n",
       "  <thead>\n",
       "    <tr style=\"text-align: right;\">\n",
       "      <th></th>\n",
       "      <th>order_id</th>\n",
       "      <th>user_id</th>\n",
       "      <th>order_number</th>\n",
       "      <th>order_dow</th>\n",
       "      <th>order_hour_of_day</th>\n",
       "      <th>days_since_prior_order</th>\n",
       "    </tr>\n",
       "  </thead>\n",
       "  <tbody>\n",
       "    <tr>\n",
       "      <th>0</th>\n",
       "      <td>1515936</td>\n",
       "      <td>183418</td>\n",
       "      <td>11</td>\n",
       "      <td>6</td>\n",
       "      <td>13</td>\n",
       "      <td>30.0</td>\n",
       "    </tr>\n",
       "    <tr>\n",
       "      <th>1</th>\n",
       "      <td>1690866</td>\n",
       "      <td>163593</td>\n",
       "      <td>5</td>\n",
       "      <td>5</td>\n",
       "      <td>12</td>\n",
       "      <td>9.0</td>\n",
       "    </tr>\n",
       "    <tr>\n",
       "      <th>2</th>\n",
       "      <td>1454967</td>\n",
       "      <td>39980</td>\n",
       "      <td>4</td>\n",
       "      <td>5</td>\n",
       "      <td>19</td>\n",
       "      <td>2.0</td>\n",
       "    </tr>\n",
       "    <tr>\n",
       "      <th>3</th>\n",
       "      <td>1768857</td>\n",
       "      <td>82516</td>\n",
       "      <td>56</td>\n",
       "      <td>0</td>\n",
       "      <td>20</td>\n",
       "      <td>10.0</td>\n",
       "    </tr>\n",
       "    <tr>\n",
       "      <th>4</th>\n",
       "      <td>3007858</td>\n",
       "      <td>196724</td>\n",
       "      <td>2</td>\n",
       "      <td>4</td>\n",
       "      <td>12</td>\n",
       "      <td>17.0</td>\n",
       "    </tr>\n",
       "    <tr>\n",
       "      <th>...</th>\n",
       "      <td>...</td>\n",
       "      <td>...</td>\n",
       "      <td>...</td>\n",
       "      <td>...</td>\n",
       "      <td>...</td>\n",
       "      <td>...</td>\n",
       "    </tr>\n",
       "    <tr>\n",
       "      <th>478962</th>\n",
       "      <td>3210681</td>\n",
       "      <td>5617</td>\n",
       "      <td>5</td>\n",
       "      <td>1</td>\n",
       "      <td>14</td>\n",
       "      <td>7.0</td>\n",
       "    </tr>\n",
       "    <tr>\n",
       "      <th>478963</th>\n",
       "      <td>3270802</td>\n",
       "      <td>112087</td>\n",
       "      <td>2</td>\n",
       "      <td>3</td>\n",
       "      <td>13</td>\n",
       "      <td>6.0</td>\n",
       "    </tr>\n",
       "    <tr>\n",
       "      <th>478964</th>\n",
       "      <td>885349</td>\n",
       "      <td>82944</td>\n",
       "      <td>16</td>\n",
       "      <td>2</td>\n",
       "      <td>11</td>\n",
       "      <td>6.0</td>\n",
       "    </tr>\n",
       "    <tr>\n",
       "      <th>478965</th>\n",
       "      <td>216274</td>\n",
       "      <td>4391</td>\n",
       "      <td>3</td>\n",
       "      <td>3</td>\n",
       "      <td>8</td>\n",
       "      <td>8.0</td>\n",
       "    </tr>\n",
       "    <tr>\n",
       "      <th>478966</th>\n",
       "      <td>2071924</td>\n",
       "      <td>1730</td>\n",
       "      <td>18</td>\n",
       "      <td>1</td>\n",
       "      <td>14</td>\n",
       "      <td>15.0</td>\n",
       "    </tr>\n",
       "  </tbody>\n",
       "</table>\n",
       "<p>478952 rows × 6 columns</p>\n",
       "</div>"
      ],
      "text/plain": [
       "        order_id  user_id  order_number  order_dow  order_hour_of_day  \\\n",
       "0        1515936   183418            11          6                 13   \n",
       "1        1690866   163593             5          5                 12   \n",
       "2        1454967    39980             4          5                 19   \n",
       "3        1768857    82516            56          0                 20   \n",
       "4        3007858   196724             2          4                 12   \n",
       "...          ...      ...           ...        ...                ...   \n",
       "478962   3210681     5617             5          1                 14   \n",
       "478963   3270802   112087             2          3                 13   \n",
       "478964    885349    82944            16          2                 11   \n",
       "478965    216274     4391             3          3                  8   \n",
       "478966   2071924     1730            18          1                 14   \n",
       "\n",
       "        days_since_prior_order  \n",
       "0                         30.0  \n",
       "1                          9.0  \n",
       "2                          2.0  \n",
       "3                         10.0  \n",
       "4                         17.0  \n",
       "...                        ...  \n",
       "478962                     7.0  \n",
       "478963                     6.0  \n",
       "478964                     6.0  \n",
       "478965                     8.0  \n",
       "478966                    15.0  \n",
       "\n",
       "[478952 rows x 6 columns]"
      ]
     },
     "execution_count": 41,
     "metadata": {},
     "output_type": "execute_result"
    }
   ],
   "source": [
    "df_instacart_orders"
   ]
  },
  {
   "cell_type": "code",
   "execution_count": 42,
   "id": "d89b8403",
   "metadata": {
    "id": "d89b8403"
   },
   "outputs": [
    {
     "data": {
      "text/plain": [
       "0      373\n",
       "1      215\n",
       "2      106\n",
       "3      101\n",
       "4      108\n",
       "5      170\n",
       "6      643\n",
       "7     1732\n",
       "8     3125\n",
       "9     4490\n",
       "10    5026\n",
       "11    5004\n",
       "12    4688\n",
       "13    4674\n",
       "14    4774\n",
       "15    5163\n",
       "16    4976\n",
       "17    4175\n",
       "18    3463\n",
       "19    2652\n",
       "20    1917\n",
       "21    1450\n",
       "22    1154\n",
       "23     718\n",
       "Name: order_hour_of_day, dtype: int64"
      ]
     },
     "execution_count": 42,
     "metadata": {},
     "output_type": "execute_result"
    }
   ],
   "source": [
    "\n",
    "df_instacart_orders_miercoles= df_instacart_orders[df_instacart_orders['order_dow']==3]\n",
    "df_instacart_orders_miercoles=df_instacart_orders_miercoles['order_hour_of_day'].value_counts().sort_index()\n",
    "df_instacart_orders_miercoles"
   ]
  },
  {
   "cell_type": "code",
   "execution_count": 43,
   "id": "94e54e8a",
   "metadata": {
    "id": "94e54e8a"
   },
   "outputs": [
    {
     "data": {
      "text/plain": [
       "0      464\n",
       "1      254\n",
       "2      177\n",
       "3      125\n",
       "4      118\n",
       "5      161\n",
       "6      451\n",
       "7     1619\n",
       "8     3246\n",
       "9     4311\n",
       "10    4919\n",
       "11    5116\n",
       "12    5132\n",
       "13    5323\n",
       "14    5375\n",
       "15    5188\n",
       "16    5029\n",
       "17    4295\n",
       "18    3338\n",
       "19    2610\n",
       "20    1847\n",
       "21    1473\n",
       "22    1185\n",
       "23     893\n",
       "Name: order_hour_of_day, dtype: int64"
      ]
     },
     "execution_count": 43,
     "metadata": {},
     "output_type": "execute_result"
    }
   ],
   "source": [
    "df_instacart_orders_sabado= df_instacart_orders[df_instacart_orders['order_dow']==6]\n",
    "df_instacart_orders_sabado=df_instacart_orders_sabado['order_hour_of_day'].value_counts().sort_index()\n",
    "df_instacart_orders_sabado\n"
   ]
  },
  {
   "cell_type": "code",
   "execution_count": 44,
   "id": "797c90a8",
   "metadata": {
    "id": "797c90a8"
   },
   "outputs": [
    {
     "data": {
      "image/png": "[encoded data removed]",
      "text/plain": [
       "<Figure size 1500x600 with 2 Axes>"
      ]
     },
     "metadata": {},
     "output_type": "display_data"
    }
   ],
   "source": [
    "fig,(ax1,ax2)=plt.subplots(1,2, figsize=(15,6))\n",
    "df_instacart_orders_miercoles.plot(kind='bar',ax=ax1,title='Pedidos los miercoles',xlabel='horas', ylabel='cantidad de pedidos',color='blue')\n",
    "df_instacart_orders_sabado.plot(kind='bar',ax=ax2,title='Pedidos los viernes',xlabel='horas', ylabel='cantidad de pedidos',color='red')\n",
    "plt.show()"
   ]
  },
  {
   "cell_type": "markdown",
   "id": "8f90834a-e495-4dfc-b3df-0aa2941c655b",
   "metadata": {},
   "source": [
    "<div class=\"alert alert-block alert-success\">\n",
    "<b>Comentario del revisor</b> <a class=\"tocSkip\"></a><br />\n",
    "Bien hecho!\n",
    "<br />\n",
    "Buena manera de mostrar los resultados de ambos días, te dejo un ejemplo de como mostrarlos en una misma grafica\n",
    "</div>\n"
   ]
  },
  {
   "cell_type": "code",
   "execution_count": 47,
   "id": "79858bbe-ced0-493b-92cf-b3ee636b1958",
   "metadata": {},
   "outputs": [
    {
     "data": {
      "image/png": "[encoded data removed]",
      "text/plain": [
       "<Figure size 1200x600 with 1 Axes>"
      ]
     },
     "metadata": {},
     "output_type": "display_data"
    }
   ],
   "source": [
    "plt.figure(figsize=(12, 6))\n",
    "plt.bar(df_instacart_orders_miercoles.index - 0.2, df_instacart_orders_miercoles.values, width=0.4, label='Miércoles', color='blue')\n",
    "plt.bar(df_instacart_orders_sabado.index + 0.2, df_instacart_orders_sabado.values, width=0.4, label='Sábado', color='red')\n",
    "plt.xlabel('Hora del día')\n",
    "plt.ylabel('Cantidad de pedidos')\n",
    "plt.title('Distribución de pedidos por hora del día (miércoles vs. sábado)')\n",
    "plt.xticks(range(24))\n",
    "plt.legend()\n",
    "plt.show()"
   ]
  },
  {
   "cell_type": "markdown",
   "id": "charitable-congo",
   "metadata": {
    "id": "charitable-congo"
   },
   "source": [
    "los vierne se vende mejor que el miercoles en especial entre las 12 y 14 horas"
   ]
  },
  {
   "cell_type": "code",
   "execution_count": 45,
   "id": "d8c26c23",
   "metadata": {
    "id": "d8c26c23"
   },
   "outputs": [
    {
     "data": {
      "text/plain": [
       "149605    28\n",
       "193164    26\n",
       "78375     25\n",
       "148162    24\n",
       "66664     24\n",
       "          ..\n",
       "166116     1\n",
       "63564      1\n",
       "170214     1\n",
       "51274      1\n",
       "2047       1\n",
       "Name: user_id, Length: 157437, dtype: int64"
      ]
     },
     "execution_count": 45,
     "metadata": {},
     "output_type": "execute_result"
    }
   ],
   "source": [
    "df_instacart_orders_cliente= df_instacart_orders['user_id'].value_counts()\n",
    "df_instacart_orders_cliente"
   ]
  },
  {
   "cell_type": "code",
   "execution_count": 46,
   "id": "00e69a66",
   "metadata": {
    "id": "00e69a66"
   },
   "outputs": [
    {
     "data": {
      "image/png": "[encoded data removed]",
      "text/plain": [
       "<Figure size 640x480 with 1 Axes>"
      ]
     },
     "metadata": {},
     "output_type": "display_data"
    }
   ],
   "source": [
    "\n",
    "df_instacart_orders_cliente.plot(kind='hist',bins=50,title='distribucion de pedidos por cliente',ylabel='cantidad de pedidos',xlabel='cliente')\n",
    "plt.show()\n"
   ]
  },
  {
   "cell_type": "markdown",
   "id": "34ad1590-0fc0-499f-9fa6-9c728893aa1d",
   "metadata": {},
   "source": [
    "<div class=\"alert alert-block alert-warning\">\n",
    "<b>Comentario del revisor</b> <a class=\"tocSkip\"></a><br />\n",
    "\n",
    "Cuidado! el titulo del ejercicio fue removido\n",
    "</div>\n"
   ]
  },
  {
   "cell_type": "markdown",
   "id": "d2eff7d5",
   "metadata": {
    "id": "d2eff7d5"
   },
   "source": [
    "Escribe aquí tus conclusiones"
   ]
  },
  {
   "cell_type": "markdown",
   "id": "54a0319c",
   "metadata": {
    "id": "54a0319c"
   },
   "source": [
    "### [B3] ¿Cuáles son los 20 productos más populares (muestra su ID y nombre)?"
   ]
  },
  {
   "cell_type": "code",
   "execution_count": 48,
   "id": "62090172-97b9-4aa1-b1b0-392fdc3d3453",
   "metadata": {},
   "outputs": [
    {
     "name": "stdout",
     "output_type": "stream",
     "text": [
      "24852    66050\n",
      "13176    53297\n",
      "21137    37039\n",
      "21903    33971\n",
      "47209    29773\n",
      "47766    24689\n",
      "47626    21495\n",
      "16797    20018\n",
      "26209    19690\n",
      "27845    19600\n",
      "27966    19197\n",
      "22935    15898\n",
      "24964    15292\n",
      "45007    14584\n",
      "39275    13879\n",
      "49683    13675\n",
      "28204    12544\n",
      "5876     12232\n",
      "8277     11993\n",
      "40706    11781\n",
      "Name: product_id, dtype: int64\n"
     ]
    }
   ],
   "source": [
    "\n",
    "productos_mas_vendidos = df_order_products['product_id'].value_counts().head(20)\n",
    "print(productos_mas_vendidos)\n"
   ]
  },
  {
   "cell_type": "code",
   "execution_count": 49,
   "id": "exterior-arizona",
   "metadata": {
    "id": "exterior-arizona",
    "scrolled": true
   },
   "outputs": [
    {
     "name": "stdout",
     "output_type": "stream",
     "text": [
      "    product_id  cantidad_vendida              product_name\n",
      "0        24852             66050                    Banana\n",
      "1        13176             53297    Bag of Organic Bananas\n",
      "2        21137             37039      Organic Strawberries\n",
      "3        21903             33971      Organic Baby Spinach\n",
      "4        47209             29773      Organic Hass Avocado\n",
      "5        47766             24689           Organic Avocado\n",
      "6        47626             21495               Large Lemon\n",
      "7        16797             20018              Strawberries\n",
      "8        26209             19690                     Limes\n",
      "9        27845             19600        Organic Whole Milk\n",
      "10       27966             19197       Organic Raspberries\n",
      "11       22935             15898      Organic Yellow Onion\n",
      "12       24964             15292            Organic Garlic\n",
      "13       45007             14584          Organic Zucchini\n",
      "14       39275             13879       Organic Blueberries\n",
      "15       49683             13675            Cucumber Kirby\n",
      "16       28204             12544        Organic Fuji Apple\n",
      "17        5876             12232             Organic Lemon\n",
      "18        8277             11993  Apple Honeycrisp Organic\n",
      "19       40706             11781    Organic Grape Tomatoes\n"
     ]
    }
   ],
   "source": [
    "top_20_df = productos_mas_vendidos.reset_index()\n",
    "top_20_df.columns = ['product_id', 'cantidad_vendida']\n",
    "top_20_con_nombres = top_20_df.merge(df_products[['product_id', 'product_name']], on='product_id')\n",
    "print(top_20_con_nombres)"
   ]
  },
  {
   "cell_type": "markdown",
   "id": "4d7af0b2-5733-4c2c-804c-55cc6061e0be",
   "metadata": {},
   "source": [
    "<div class=\"alert alert-block alert-success\">\n",
    "<b>Comentario del revisor</b> <a class=\"tocSkip\"></a><br />\n",
    "Los resultados son acertados!<br/>\n",
    "Los clientes tienden a comprar productos naturales, buena manera de mostrar los resultados\n",
    "</div>\n"
   ]
  },
  {
   "cell_type": "markdown",
   "id": "gross-theme",
   "metadata": {
    "id": "gross-theme"
   },
   "source": [
    "# [C] Difícil (deben completarse todos para aprobar)\n",
    "\n",
    "1. ¿Cuántos artículos suelen comprar las personas en un pedido? ¿Cómo es la distribución?\n",
    "2. ¿Cuáles son los 20 principales artículos que vuelven a pedirse con mayor frecuencia (muestra sus nombres e IDs de los productos)?\n",
    "3. Para cada producto, ¿cuál es la tasa de repetición del pedido (número de repeticiones de pedido/total de pedidos?\n",
    "4. Para cada cliente, ¿qué proporción de los productos que pidió ya los había pedido? Calcula la tasa de repetición de pedido para cada usuario en lugar de para cada producto.\n",
    "5. ¿Cuáles son los 20 principales artículos que la gente pone primero en sus carritos (muestra las IDs de los productos, sus nombres, y el número de veces en que fueron el primer artículo en añadirse al carrito)?"
   ]
  },
  {
   "cell_type": "markdown",
   "id": "romantic-deposit",
   "metadata": {
    "id": "romantic-deposit"
   },
   "source": [
    "### [C1] ¿Cuántos artículos compran normalmente las personas en un pedido? ¿Cómo es la distribución?"
   ]
  },
  {
   "cell_type": "code",
   "execution_count": 50,
   "id": "virtual-punch",
   "metadata": {
    "id": "virtual-punch"
   },
   "outputs": [
    {
     "name": "stdout",
     "output_type": "stream",
     "text": [
      "          product_id  add_to_cart_order  reordered\n",
      "order_id                                          \n",
      "4                 13                 13         13\n",
      "9                 15                 15         15\n",
      "11                 5                  5          5\n",
      "19                 3                  3          3\n",
      "20                 8                  8          8\n",
      "31                10                 10         10\n",
      "48                 8                  8          8\n",
      "56                10                 10         10\n",
      "61                12                 12         12\n",
      "68                 9                  9          9\n"
     ]
    }
   ],
   "source": [
    "df_order_products_agrupado=df_order_products.groupby(\"order_id\").count()\n",
    "print(df_order_products_agrupado.head(10))\n"
   ]
  },
  {
   "cell_type": "code",
   "execution_count": 51,
   "id": "sensitive-breathing",
   "metadata": {
    "id": "sensitive-breathing"
   },
   "outputs": [
    {
     "data": {
      "text/plain": [
       "<AxesSubplot:title={'center':'Compras de articulo'}, ylabel='Frequency'>"
      ]
     },
     "execution_count": 51,
     "metadata": {},
     "output_type": "execute_result"
    },
    {
     "data": {
      "image/png": "[encoded data removed]",
      "text/plain": [
       "<Figure size 640x480 with 1 Axes>"
      ]
     },
     "metadata": {},
     "output_type": "display_data"
    }
   ],
   "source": [
    "df_order_products_agrupado['product_id'].plot(kind='hist', bins=20,title='Compras de articulo',xlabel='product_id',ylabel='Clientes')"
   ]
  },
  {
   "cell_type": "markdown",
   "id": "6f629fd1-fcc3-4e03-934a-79ef2f0ee7db",
   "metadata": {},
   "source": [
    "<div class=\"alert alert-block alert-success\">\n",
    "<b>Comentario del revisor</b> <a class=\"tocSkip\"></a><br />\n",
    "Bien hecho, el resultado es correcto, los usuarios suelen pedir alrededor de 10 articulos\n",
    "</div>\n"
   ]
  },
  {
   "cell_type": "markdown",
   "id": "d26d7d73-91b9-4fb0-91a1-d4af4f7663b5",
   "metadata": {
    "id": "completed-frank"
   },
   "source": [
    "la mayoria de personas compran pocos productos"
   ]
  },
  {
   "cell_type": "markdown",
   "id": "designed-mortality",
   "metadata": {
    "id": "designed-mortality"
   },
   "source": [
    "Escribe aquí tus conclusiones"
   ]
  },
  {
   "cell_type": "markdown",
   "id": "5e6b5537",
   "metadata": {
    "id": "5e6b5537"
   },
   "source": [
    "### [C2] ¿Cuáles son los 20 principales artículos que vuelven a pedirse con mayor frecuencia (muestra sus nombres e IDs de los productos)?"
   ]
  },
  {
   "cell_type": "code",
   "execution_count": 52,
   "id": "9374e55a",
   "metadata": {
    "id": "9374e55a"
   },
   "outputs": [
    {
     "name": "stdout",
     "output_type": "stream",
     "text": [
      "   order_id  product_id  add_to_cart_order  reordered\n",
      "1    567889        1560                  1          1\n",
      "2   2261212       26683                  1          1\n",
      "3    491251        8670                 35          1\n",
      "4   2571142        1940                  5          1\n",
      "5   2456893       21616                  4          1\n"
     ]
    }
   ],
   "source": [
    "productos_reordenados = df_order_products[df_order_products['reordered'] == 1]\n",
    "print(productos_reordenados.head())"
   ]
  },
  {
   "cell_type": "code",
   "execution_count": 53,
   "id": "professional-surfing",
   "metadata": {
    "id": "professional-surfing",
    "scrolled": true
   },
   "outputs": [
    {
     "name": "stdout",
     "output_type": "stream",
     "text": [
      "   order_id  product_id  add_to_cart_order  reordered product_name\n",
      "0    567889        1560                  1          1   Bag Of Ice\n",
      "1    761899        1560                  2          1   Bag Of Ice\n",
      "2   1388514        1560                  8          1   Bag Of Ice\n",
      "3   2629631        1560                  1          1   Bag Of Ice\n",
      "4    866921        1560                  6          1   Bag Of Ice\n"
     ]
    }
   ],
   "source": [
    "top_20_reordenados = productos_reordenados.merge(df_products[['product_id', 'product_name']], on='product_id')\n",
    "print(top_20_reordenados.head())"
   ]
  },
  {
   "cell_type": "code",
   "execution_count": 54,
   "id": "possible-change",
   "metadata": {
    "id": "possible-change",
    "scrolled": true
   },
   "outputs": [
    {
     "name": "stdout",
     "output_type": "stream",
     "text": [
      "product_id  product_name            \n",
      "24852       Banana                      55763\n",
      "13176       Bag of Organic Bananas      44450\n",
      "21137       Organic Strawberries        28639\n",
      "21903       Organic Baby Spinach        26233\n",
      "47209       Organic Hass Avocado        23629\n",
      "47766       Organic Avocado             18743\n",
      "27845       Organic Whole Milk          16251\n",
      "47626       Large Lemon                 15044\n",
      "27966       Organic Raspberries         14748\n",
      "16797       Strawberries                13945\n",
      "26209       Limes                       13327\n",
      "22935       Organic Yellow Onion        11145\n",
      "24964       Organic Garlic              10411\n",
      "45007       Organic Zucchini            10076\n",
      "49683       Cucumber Kirby               9538\n",
      "28204       Organic Fuji Apple           8989\n",
      "8277        Apple Honeycrisp Organic     8836\n",
      "39275       Organic Blueberries          8799\n",
      "5876        Organic Lemon                8412\n",
      "49235       Organic Half & Half          8389\n",
      "dtype: int64\n"
     ]
    }
   ],
   "source": [
    "\n",
    "top_20_reordenados_con_nombre = top_20_reordenados[['product_id','product_name']].value_counts().head(20)\n",
    "print(top_20_reordenados_con_nombre)\n"
   ]
  },
  {
   "cell_type": "markdown",
   "id": "ea0b5f73-2c2f-4db0-b420-00fa462a58c6",
   "metadata": {
    "id": "48dd3658"
   },
   "source": [
    "<div class=\"alert alert-block alert-success\">\n",
    "<b>Comentario del revisor</b> <a class=\"tocSkip\"></a><br />\n",
    "Correcto!<br/> \n",
    "Buena manera de mostrar los resultados, los productos naturales son consistentemente los más vendidos\n",
    "</div>\n"
   ]
  },
  {
   "cell_type": "markdown",
   "id": "80e70c74",
   "metadata": {
    "id": "80e70c74"
   },
   "source": [
    "Escribe aquí tus conclusiones"
   ]
  },
  {
   "cell_type": "markdown",
   "id": "9d312b14",
   "metadata": {
    "id": "9d312b14"
   },
   "source": [
    "### [C3] Para cada producto, ¿cuál es la proporción de las veces que se pide y que se vuelve a pedir?"
   ]
  },
  {
   "cell_type": "code",
   "execution_count": 55,
   "id": "8ae9f4b1",
   "metadata": {
    "id": "8ae9f4b1"
   },
   "outputs": [
    {
     "name": "stdout",
     "output_type": "stream",
     "text": [
      "24852    66050\n",
      "13176    53297\n",
      "21137    37039\n",
      "21903    33971\n",
      "47209    29773\n",
      "Name: product_id, dtype: int64\n"
     ]
    }
   ],
   "source": [
    "\n",
    "total_pedidos_por_producto = df_order_products['product_id'].value_counts()\n",
    "print(total_pedidos_por_producto.head())\n",
    "\n"
   ]
  },
  {
   "cell_type": "code",
   "execution_count": 56,
   "id": "103e7fe1",
   "metadata": {
    "id": "103e7fe1"
   },
   "outputs": [
    {
     "name": "stdout",
     "output_type": "stream",
     "text": [
      "24852    55763\n",
      "13176    44450\n",
      "21137    28639\n",
      "21903    26233\n",
      "47209    23629\n",
      "Name: product_id, dtype: int64\n"
     ]
    }
   ],
   "source": [
    "reordenaciones_por_producto = productos_reordenados['product_id'].value_counts()\n",
    "print(reordenaciones_por_producto.head())"
   ]
  },
  {
   "cell_type": "code",
   "execution_count": 57,
   "id": "social-individual",
   "metadata": {
    "id": "social-individual"
   },
   "outputs": [
    {
     "name": "stdout",
     "output_type": "stream",
     "text": [
      "1    0.564286\n",
      "2         NaN\n",
      "3    0.738095\n",
      "4    0.510204\n",
      "7    0.500000\n",
      "Name: product_id, dtype: float64\n"
     ]
    }
   ],
   "source": [
    "\n",
    "proporcion_por_producto = reordenaciones_por_producto/total_pedidos_por_producto\n",
    "print(proporcion_por_producto.head())\n"
   ]
  },
  {
   "cell_type": "code",
   "execution_count": 58,
   "id": "5f0aaab4-429e-4dcf-a550-f9bd5b9fbd2f",
   "metadata": {},
   "outputs": [
    {
     "data": {
      "image/png": "[encoded data removed]",
      "text/plain": [
       "<Figure size 640x480 with 1 Axes>"
      ]
     },
     "metadata": {},
     "output_type": "display_data"
    }
   ],
   "source": [
    "\n",
    "proporcion_por_producto.plot(kind='hist',bins=50,title='proporción de las veces que se pide y que se vuelve a pedir',ylabel='proporcion')\n",
    "plt.show()\n",
    "\n"
   ]
  },
  {
   "cell_type": "markdown",
   "id": "I10dEIAyldcO",
   "metadata": {
    "id": "I10dEIAyldcO"
   },
   "source": [
    "Escribe aquí tus conclusiones"
   ]
  },
  {
   "cell_type": "markdown",
   "id": "subject-boxing",
   "metadata": {
    "id": "subject-boxing"
   },
   "source": [
    "### [C4] Para cada cliente, ¿qué proporción de sus productos ya los había pedido?"
   ]
  },
  {
   "cell_type": "code",
   "execution_count": 59,
   "id": "medical-couple",
   "metadata": {
    "id": "medical-couple",
    "scrolled": true
   },
   "outputs": [
    {
     "name": "stdout",
     "output_type": "stream",
     "text": [
      "   order_id  product_id  add_to_cart_order  reordered  user_id\n",
      "0   2141543       11440                 17          0    58454\n",
      "1   2141543       31869                 15          1    58454\n",
      "2   2141543       30233                  9          1    58454\n",
      "3   2141543       27966                 20          1    58454\n",
      "4   2141543       13176                  2          1    58454\n"
     ]
    }
   ],
   "source": [
    "df_order_products_con_cliente = df_order_products.merge(\n",
    "    df_instacart_orders[['order_id', 'user_id']], \n",
    "    on='order_id'\n",
    ")\n",
    "print(df_order_products_con_cliente.head())"
   ]
  },
  {
   "cell_type": "code",
   "execution_count": 60,
   "id": "8892e4b4",
   "metadata": {
    "id": "8892e4b4"
   },
   "outputs": [
    {
     "name": "stdout",
     "output_type": "stream",
     "text": [
      "user_id\n",
      "2    26\n",
      "4     2\n",
      "5    12\n",
      "6     4\n",
      "7    14\n",
      "dtype: int64\n"
     ]
    }
   ],
   "source": [
    "total_productos_por_cliente = df_order_products_con_cliente.groupby('user_id').size()\n",
    "print(total_productos_por_cliente.head())"
   ]
  },
  {
   "cell_type": "code",
   "execution_count": 61,
   "id": "f410820a-7fd1-4fb8-bee3-719e6e782cd0",
   "metadata": {},
   "outputs": [
    {
     "name": "stdout",
     "output_type": "stream",
     "text": [
      "user_id\n",
      "2          1\n",
      "4          0\n",
      "5          8\n",
      "6          0\n",
      "7         13\n",
      "          ..\n",
      "206203     6\n",
      "206206    15\n",
      "206207    41\n",
      "206208    87\n",
      "206209     8\n",
      "Name: reordered, Length: 149626, dtype: int64\n"
     ]
    }
   ],
   "source": [
    "\n",
    "total_productos_reordenados_por_cliente = df_order_products_con_cliente.groupby('user_id')['reordered'].sum()\n",
    "print(total_productos_reordenados_por_cliente)\n"
   ]
  },
  {
   "cell_type": "code",
   "execution_count": 62,
   "id": "fc317936-5c80-43bc-bfb9-112f6b838013",
   "metadata": {},
   "outputs": [
    {
     "name": "stdout",
     "output_type": "stream",
     "text": [
      "user_id\n",
      "2         0.038462\n",
      "4         0.000000\n",
      "5         0.666667\n",
      "6         0.000000\n",
      "7         0.928571\n",
      "            ...   \n",
      "206203    0.222222\n",
      "206206    0.714286\n",
      "206207    0.891304\n",
      "206208    0.696000\n",
      "206209    0.320000\n",
      "Length: 149626, dtype: float64\n"
     ]
    }
   ],
   "source": [
    "proporcion_de_reordenamiento=total_productos_reordenados_por_cliente/total_productos_por_cliente\n",
    "print(proporcion_de_reordenamiento)"
   ]
  },
  {
   "cell_type": "code",
   "execution_count": 63,
   "id": "146f467a-992d-4b59-a968-01fed10b69e2",
   "metadata": {},
   "outputs": [
    {
     "data": {
      "image/png": "[encoded data removed]",
      "text/plain": [
       "<Figure size 640x480 with 1 Axes>"
      ]
     },
     "metadata": {},
     "output_type": "display_data"
    }
   ],
   "source": [
    "proporcion_de_reordenamiento.plot(kind='hist',bins=50,title='proporción de productos ya vendidos',ylabel='proporcion')\n",
    "plt.show()\n"
   ]
  },
  {
   "cell_type": "markdown",
   "id": "BgJSvXDsleXz",
   "metadata": {
    "id": "BgJSvXDsleXz"
   },
   "source": [
    "la mayoria pidio el producto por primera vez"
   ]
  },
  {
   "cell_type": "markdown",
   "id": "bf2496f9-2cb6-4a0f-bf37-27d1a01767b1",
   "metadata": {},
   "source": [
    "<div class=\"alert alert-block alert-success\">\n",
    "<b>Comentario del revisor</b> <a class=\"tocSkip\"></a><br />\n",
    "Correcto!<br/>\n",
    "Buena manera de realizar las proporciones\n",
    "</div>\n"
   ]
  },
  {
   "cell_type": "markdown",
   "id": "92d35137",
   "metadata": {
    "id": "92d35137"
   },
   "source": [
    "### [C5] ¿Cuáles son los 20 principales artículos que las personas ponen primero en sus carritos?"
   ]
  },
  {
   "cell_type": "code",
   "execution_count": 64,
   "id": "0ae57274",
   "metadata": {
    "id": "0ae57274",
    "scrolled": true
   },
   "outputs": [],
   "source": [
    "productos_primeros = df_order_products[df_order_products['add_to_cart_order'] == 1]"
   ]
  },
  {
   "cell_type": "code",
   "execution_count": 65,
   "id": "forty-netherlands",
   "metadata": {
    "id": "forty-netherlands",
    "scrolled": true
   },
   "outputs": [],
   "source": [
    "top_20_primeros = productos_primeros['product_id'].value_counts().head(20)"
   ]
  },
  {
   "cell_type": "code",
   "execution_count": 66,
   "id": "08e41ec2",
   "metadata": {
    "id": "08e41ec2"
   },
   "outputs": [
    {
     "name": "stdout",
     "output_type": "stream",
     "text": [
      "    product_id  veces_seleccionado_primero                 product_name\n",
      "0        24852                       15562                       Banana\n",
      "1        13176                       11026       Bag of Organic Bananas\n",
      "2        27845                        4363           Organic Whole Milk\n",
      "3        21137                        3946         Organic Strawberries\n",
      "4        47209                        3390         Organic Hass Avocado\n",
      "5        21903                        3336         Organic Baby Spinach\n",
      "6        47766                        3044              Organic Avocado\n",
      "7        19660                        2336                 Spring Water\n",
      "8        16797                        2308                 Strawberries\n",
      "9        27966                        2024          Organic Raspberries\n",
      "10       44632                        1914   Sparkling Water Grapefruit\n",
      "11       49235                        1797          Organic Half & Half\n",
      "12       47626                        1737                  Large Lemon\n",
      "13         196                        1733                         Soda\n",
      "14       38689                        1397     Organic Reduced Fat Milk\n",
      "15       26209                        1370                        Limes\n",
      "16       12341                        1340                Hass Avocados\n",
      "17        5785                        1310  Organic Reduced Fat 2% Milk\n",
      "18       27086                        1309                  Half & Half\n",
      "19       22935                        1246         Organic Yellow Onion\n"
     ]
    }
   ],
   "source": [
    "top_20_primeros_df = top_20_primeros.reset_index()\n",
    "top_20_primeros_df.columns = ['product_id', 'veces_seleccionado_primero']\n",
    "\n",
    "# Hacer merge con df_products para obtener los nombres\n",
    "top_20_primeros_con_nombres = top_20_primeros_df.merge(\n",
    "    df_products[['product_id', 'product_name']], \n",
    "    on='product_id'\n",
    ")\n",
    "print(top_20_primeros_con_nombres)"
   ]
  },
  {
   "cell_type": "markdown",
   "id": "28ce9872",
   "metadata": {
    "id": "28ce9872"
   },
   "source": [
    "Escribe aquí tus conclusiones"
   ]
  },
  {
   "cell_type": "markdown",
   "id": "49c4a28d-fe24-4caf-98e1-7eb303cd09be",
   "metadata": {},
   "source": [
    "\n",
    "<div class=\"alert alert-block alert-success\">\n",
    "<b>Comentario del revisor</b> <a class=\"tocSkip\"></a><br />\n",
    "Correcto!<br/>\n",
    "Una vez más los productos orgánicos estan en el top de la lista<br/>\n",
    "</div>\n"
   ]
  },
  {
   "cell_type": "markdown",
   "id": "uITbFCEoDosC",
   "metadata": {
    "id": "uITbFCEoDosC"
   },
   "source": [
    "### Conclusion general del proyecto:"
   ]
  },
  {
   "cell_type": "code",
   "execution_count": null,
   "id": "Nk-4GS7mDwqY",
   "metadata": {
    "id": "Nk-4GS7mDwqY"
   },
   "outputs": [],
   "source": [
    "fue un proyecto muy complicado pero me siento satisfecho con haberlo logrado"
   ]
  },
  {
   "cell_type": "markdown",
   "id": "902086b5-9aa9-460a-bd2f-36fb86fa8944",
   "metadata": {},
   "source": [
    "## Comentario general del revisor\n",
    "<div class=\"alert alert-block alert-success\">\n",
    "<b>Comentario del revisor</b> <a class=\"tocSkip\"></a><br />\n",
    "Has realizado un buen trabajo, me doy cuenta de que has aplicado los conocimientos que has adquirido durante el curso, los procedimientos realizados son correctos. Considero que este es un proyecto que se empieza a asemejar más a algún proyecto que te pidan en un trabajo, a partir de análisis de este tipo se pueden diseñar estrategias de marketing específicas para ciertos productos o se pueden optimizar los procesos internos para tener disponibles más rápidamente los productos que se venden más seguido.<br/>\n",
    "    \n",
    "\n",
    "Continúa con el buen trabajo y mucho éxito en el siguiente Sprint!\n",
    "</div>\n"
   ]
  },
  {
   "cell_type": "markdown",
   "id": "9815b33f-ef75-41fd-88a6-b6d3b33ff80c",
   "metadata": {},
   "source": [
    "<div class=\"alert alert-block alert-success\">\n",
    "<b>Aspectos positivos del proyecto</b> <a class=\"tocSkip\"></a><br />\n",
    "\n",
    "- Las observaciones intermedias me parecen buenas\n",
    "- Las graficas utilizadas me parecen del tipo correcto\n",
    "- El proyecto esta ordenado\n",
    "    \n",
    "</div>\n",
    "\n",
    "<div class=\"alert alert-block alert-warning\">\n",
    "<b>Aspectos que pueden mejorar del proyecto</b> <a class=\"tocSkip\"></a><br />\n",
    "\n",
    "- Desarrollar un poco más las conclusiones finales, puedes añadir lo que te pareció complicado del proyecto, que mejoras se pueden hacer, etc.\n",
    "\n",
    "</div>"
   ]
  }
 ],
 "metadata": {
  "colab": {
   "provenance": [
    {
     "file_id": "1aLGZ19-GYem3LZdYHuzuwYIeSw_tr0AT",
     "timestamp": 1689682143157
    }
   ]
  },
  "kernelspec": {
   "display_name": "Python 3 (ipykernel)",
   "language": "python",
   "name": "python3"
  },
  "language_info": {
   "codemirror_mode": {
    "name": "ipython",
    "version": 3
   },
   "file_extension": ".py",
   "mimetype": "text/x-python",
   "name": "python",
   "nbconvert_exporter": "python",
   "pygments_lexer": "ipython3",
   "version": "3.9.23"
  },
  "vscode": {
   "interpreter": {
    "hash": "01a7be9ec63e704a62cefc5fe7a4756944464ee731be31632bdf42a4cb4688cf"
   }
  }
 },
 "nbformat": 4,
 "nbformat_minor": 5
}
