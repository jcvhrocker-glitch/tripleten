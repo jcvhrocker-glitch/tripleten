{
 "cells": [
  {
   "cell_type": "markdown",
   "metadata": {},
   "source": [
    "<div class=\"alert alert-block alert-success\">\n",
    "<b>Comentario general del revisor</b> <a class=\"tocSkip\"></a><br />\n",
    "Status del proyecto: <b>Aprobado</b>\n",
    "</div>\n"
   ]
  },
  {
   "cell_type": "markdown",
   "metadata": {},
   "source": [
    "¡Hola!<br />\n",
    "Soy **Francisco Cortés**, estoy contento de revisar tu proyecto y ser parte de tu proceso de aprendizaje.\n",
    "A lo largo del texto, haré algunas observaciones sobre mejoras en el código y también haré comentarios sobre tus percepciones sobre el tema. Si existe algún error en el código, no te preocupes, estoy aquí para ayudarte a mejorarlo, en la primera iteración te lo señalaré para que tengas la oportunidad de corregirlo, pero si aún no encuentras una solución para esta tarea, te daré una pista más precisa en la próxima iteración y también algunos ejemplos prácticos. Estaré abierto a retroalimentación y discusiones sobre el tema.<br />\n",
    "Encontrarás mis comentarios a continuación - **por favor no los muevas, modifiques o borres**.\n",
    "Revisaré cuidadosamente tu código para comprobar que se han cumplido con los requisitos y te proporcionaré mis comentarios en cajas verdes, amarillas o rojas como esta:\n",
    "\n",
    "<div class=\"alert alert-block alert-success\">\n",
    "<b>Comentario del revisor</b> <a class=\"tocSkip\"></a>\n",
    "\n",
    "Si la ejecución fue perfecta succesfully.\n",
    "</div>\n",
    "\n",
    "<div class=\"alert alert-block alert-warning\">\n",
    "<b>Comentario del revisor</b> <a class=\"tocSkip\"></a>\n",
    "\n",
    "Si existe alguna recomendación para que tu código mejore.\n",
    "</div>\n",
    "\n",
    "<div class=\"alert alert-block alert-danger\">\n",
    "\n",
    "<b>Comentario del revisor</b> <a class=\"tocSkip\"></a>\n",
    "\n",
    "Si existen correcciones necesarias para cumplir con los requisitos. El trabajo no puede ser aceptado si hay alguna caja roja.\n",
    "</div>\n",
    "\n",
    "Puedes responderme de la siguiente manera:\n",
    "\n",
    "<div class=\"alert alert-block alert-info\">\n",
    "<b>Respuesta del estudiante.</b> <a class=\"tocSkip\"></a>\n",
    "</div>"
   ]
  },
  {
   "cell_type": "code",
   "execution_count": 1,
   "metadata": {
    "tags": [
     "e5c1f0c2-db9f-43a0-99b9-4875c52427e8"
    ]
   },
   "outputs": [],
   "source": [
    "import pandas as pd\n",
    "import numpy as np\n",
    "from scipy import stats as st\n",
    "import matplotlib.pyplot as plt"
   ]
  },
  {
   "cell_type": "code",
   "execution_count": 2,
   "metadata": {},
   "outputs": [],
   "source": [
    "#leer dataset\n",
    "df_games=pd.read_csv(\"/datasets/games.csv\")"
   ]
  },
  {
   "cell_type": "code",
   "execution_count": 3,
   "metadata": {},
   "outputs": [
    {
     "data": {
      "text/html": [
       "<div>\n",
       "<style scoped>\n",
       "    .dataframe tbody tr th:only-of-type {\n",
       "        vertical-align: middle;\n",
       "    }\n",
       "\n",
       "    .dataframe tbody tr th {\n",
       "        vertical-align: top;\n",
       "    }\n",
       "\n",
       "    .dataframe thead th {\n",
       "        text-align: right;\n",
       "    }\n",
       "</style>\n",
       "<table border=\"1\" class=\"dataframe\">\n",
       "  <thead>\n",
       "    <tr style=\"text-align: right;\">\n",
       "      <th></th>\n",
       "      <th>Name</th>\n",
       "      <th>Platform</th>\n",
       "      <th>Year_of_Release</th>\n",
       "      <th>Genre</th>\n",
       "      <th>NA_sales</th>\n",
       "      <th>EU_sales</th>\n",
       "      <th>JP_sales</th>\n",
       "      <th>Other_sales</th>\n",
       "      <th>Critic_Score</th>\n",
       "      <th>User_Score</th>\n",
       "      <th>Rating</th>\n",
       "    </tr>\n",
       "  </thead>\n",
       "  <tbody>\n",
       "    <tr>\n",
       "      <th>0</th>\n",
       "      <td>Wii Sports</td>\n",
       "      <td>Wii</td>\n",
       "      <td>2006.0</td>\n",
       "      <td>Sports</td>\n",
       "      <td>41.36</td>\n",
       "      <td>28.96</td>\n",
       "      <td>3.77</td>\n",
       "      <td>8.45</td>\n",
       "      <td>76.0</td>\n",
       "      <td>8</td>\n",
       "      <td>E</td>\n",
       "    </tr>\n",
       "    <tr>\n",
       "      <th>1</th>\n",
       "      <td>Super Mario Bros.</td>\n",
       "      <td>NES</td>\n",
       "      <td>1985.0</td>\n",
       "      <td>Platform</td>\n",
       "      <td>29.08</td>\n",
       "      <td>3.58</td>\n",
       "      <td>6.81</td>\n",
       "      <td>0.77</td>\n",
       "      <td>NaN</td>\n",
       "      <td>NaN</td>\n",
       "      <td>NaN</td>\n",
       "    </tr>\n",
       "    <tr>\n",
       "      <th>2</th>\n",
       "      <td>Mario Kart Wii</td>\n",
       "      <td>Wii</td>\n",
       "      <td>2008.0</td>\n",
       "      <td>Racing</td>\n",
       "      <td>15.68</td>\n",
       "      <td>12.76</td>\n",
       "      <td>3.79</td>\n",
       "      <td>3.29</td>\n",
       "      <td>82.0</td>\n",
       "      <td>8.3</td>\n",
       "      <td>E</td>\n",
       "    </tr>\n",
       "    <tr>\n",
       "      <th>3</th>\n",
       "      <td>Wii Sports Resort</td>\n",
       "      <td>Wii</td>\n",
       "      <td>2009.0</td>\n",
       "      <td>Sports</td>\n",
       "      <td>15.61</td>\n",
       "      <td>10.93</td>\n",
       "      <td>3.28</td>\n",
       "      <td>2.95</td>\n",
       "      <td>80.0</td>\n",
       "      <td>8</td>\n",
       "      <td>E</td>\n",
       "    </tr>\n",
       "    <tr>\n",
       "      <th>4</th>\n",
       "      <td>Pokemon Red/Pokemon Blue</td>\n",
       "      <td>GB</td>\n",
       "      <td>1996.0</td>\n",
       "      <td>Role-Playing</td>\n",
       "      <td>11.27</td>\n",
       "      <td>8.89</td>\n",
       "      <td>10.22</td>\n",
       "      <td>1.00</td>\n",
       "      <td>NaN</td>\n",
       "      <td>NaN</td>\n",
       "      <td>NaN</td>\n",
       "    </tr>\n",
       "  </tbody>\n",
       "</table>\n",
       "</div>"
      ],
      "text/plain": [
       "                       Name Platform  Year_of_Release         Genre  NA_sales  \\\n",
       "0                Wii Sports      Wii           2006.0        Sports     41.36   \n",
       "1         Super Mario Bros.      NES           1985.0      Platform     29.08   \n",
       "2            Mario Kart Wii      Wii           2008.0        Racing     15.68   \n",
       "3         Wii Sports Resort      Wii           2009.0        Sports     15.61   \n",
       "4  Pokemon Red/Pokemon Blue       GB           1996.0  Role-Playing     11.27   \n",
       "\n",
       "   EU_sales  JP_sales  Other_sales  Critic_Score User_Score Rating  \n",
       "0     28.96      3.77         8.45          76.0          8      E  \n",
       "1      3.58      6.81         0.77           NaN        NaN    NaN  \n",
       "2     12.76      3.79         3.29          82.0        8.3      E  \n",
       "3     10.93      3.28         2.95          80.0          8      E  \n",
       "4      8.89     10.22         1.00           NaN        NaN    NaN  "
      ]
     },
     "execution_count": 3,
     "metadata": {},
     "output_type": "execute_result"
    }
   ],
   "source": [
    "df_games.head()"
   ]
  },
  {
   "cell_type": "code",
   "execution_count": 4,
   "metadata": {},
   "outputs": [
    {
     "name": "stdout",
     "output_type": "stream",
     "text": [
      "Index(['name', 'platform', 'year_of_release', 'genre', 'na_sales', 'eu_sales',\n",
      "       'jp_sales', 'other_sales', 'critic_score', 'user_score', 'rating'],\n",
      "      dtype='object')\n"
     ]
    }
   ],
   "source": [
    "#pasar columnas a minusculas\n",
    "df_games.columns= df_games.columns.str.lower()\n",
    "print(df_games.columns)"
   ]
  },
  {
   "cell_type": "code",
   "execution_count": 5,
   "metadata": {},
   "outputs": [
    {
     "name": "stdout",
     "output_type": "stream",
     "text": [
      "<class 'pandas.core.frame.DataFrame'>\n",
      "RangeIndex: 16715 entries, 0 to 16714\n",
      "Data columns (total 11 columns):\n",
      " #   Column           Non-Null Count  Dtype  \n",
      "---  ------           --------------  -----  \n",
      " 0   name             16713 non-null  object \n",
      " 1   platform         16715 non-null  object \n",
      " 2   year_of_release  16446 non-null  float64\n",
      " 3   genre            16713 non-null  object \n",
      " 4   na_sales         16715 non-null  float64\n",
      " 5   eu_sales         16715 non-null  float64\n",
      " 6   jp_sales         16715 non-null  float64\n",
      " 7   other_sales      16715 non-null  float64\n",
      " 8   critic_score     8137 non-null   float64\n",
      " 9   user_score       10014 non-null  object \n",
      " 10  rating           9949 non-null   object \n",
      "dtypes: float64(6), object(5)\n",
      "memory usage: 1.4+ MB\n"
     ]
    }
   ],
   "source": [
    "# verificar el tipo de datos\n",
    "df_games.info()"
   ]
  },
  {
   "cell_type": "code",
   "execution_count": 6,
   "metadata": {},
   "outputs": [],
   "source": [
    "#cambiar tipo de dato y rellenar valores ausentes\n",
    "df_games['year_of_release']=df_games['year_of_release'].fillna(0).astype(int)\n",
    "df_games['critic_score']=df_games['critic_score'].fillna(df_games['critic_score'].mean()).astype(float)\n",
    "df_games['user_score'] = df_games['user_score'].replace('tbd',np.nan)\n",
    "df_games['user_score'] = pd.to_numeric(df_games['user_score'], errors='coerce')\n",
    "df_games['user_score'] = df_games['user_score'].fillna(df_games['user_score'].mean()) \n",
    "df_games['user_score']=df_games['user_score'].astype(float)"
   ]
  },
  {
   "cell_type": "code",
   "execution_count": 7,
   "metadata": {},
   "outputs": [],
   "source": [
    "##explicar porque se relleno los datos con 0 o con promedio"
   ]
  },
  {
   "cell_type": "code",
   "execution_count": 8,
   "metadata": {},
   "outputs": [
    {
     "name": "stdout",
     "output_type": "stream",
     "text": [
      "<class 'pandas.core.frame.DataFrame'>\n",
      "RangeIndex: 16715 entries, 0 to 16714\n",
      "Data columns (total 11 columns):\n",
      " #   Column           Non-Null Count  Dtype  \n",
      "---  ------           --------------  -----  \n",
      " 0   name             16713 non-null  object \n",
      " 1   platform         16715 non-null  object \n",
      " 2   year_of_release  16715 non-null  int64  \n",
      " 3   genre            16713 non-null  object \n",
      " 4   na_sales         16715 non-null  float64\n",
      " 5   eu_sales         16715 non-null  float64\n",
      " 6   jp_sales         16715 non-null  float64\n",
      " 7   other_sales      16715 non-null  float64\n",
      " 8   critic_score     16715 non-null  float64\n",
      " 9   user_score       16715 non-null  float64\n",
      " 10  rating           9949 non-null   object \n",
      "dtypes: float64(6), int64(1), object(4)\n",
      "memory usage: 1.4+ MB\n"
     ]
    }
   ],
   "source": [
    "df_games.info()"
   ]
  },
  {
   "cell_type": "code",
   "execution_count": 9,
   "metadata": {},
   "outputs": [
    {
     "name": "stdout",
     "output_type": "stream",
     "text": [
      "La suma total es: 8915.71\n"
     ]
    }
   ],
   "source": [
    "#sumar las ventas totales\n",
    "suma_de_juegos=0\n",
    "columnas_de_ventas=[\"na_sales\",\"eu_sales\",\"jp_sales\",\"other_sales\"]\n",
    "\n",
    "for col in columnas_de_ventas:\n",
    "    suma_de_juegos += df_games[col].sum()\n",
    "\n",
    "print(f\"La suma total es: {suma_de_juegos:.2f}\")"
   ]
  },
  {
   "cell_type": "code",
   "execution_count": 10,
   "metadata": {},
   "outputs": [
    {
     "name": "stdout",
     "output_type": "stream",
     "text": [
      "                                                   name  year_of_release  \\\n",
      "3081                       LEGO Harry Potter: Years 5-7                0   \n",
      "3289                         Advance Wars: Days of Ruin                0   \n",
      "5443                                        Bejeweled 3                0   \n",
      "5932                                    Shrek the Third                0   \n",
      "9664                  Charm Girls Club: My Fashion Mall                0   \n",
      "9855                          The Daring Game for Girls                0   \n",
      "10486            Atsumare! Power Pro Kun no DS Koushien                0   \n",
      "10612                          My Healthy Cooking Coach                0   \n",
      "10686                                    Happy Feet Two                0   \n",
      "10764                         Luminous Arc 2 (JP sales)                0   \n",
      "10837                                  Egg Monster Hero                0   \n",
      "11338                 Charm Girls Club: My Fashion Show                0   \n",
      "11790  Mega Man Battle Network: Operation Shooting Star                0   \n",
      "12003                                           Tornado                0   \n",
      "12241                          Alex Rider: Stormbreaker                0   \n",
      "12524                              Chou Soujuu Mecha MG                0   \n",
      "12880       Jewel Link Chronicles: Mountains of Madness                0   \n",
      "13060                    Captain America: Super Soldier                0   \n",
      "13142                                              GRID                0   \n",
      "14126                                      Housekeeping                0   \n",
      "14350                               Bikkuriman Daijiten                0   \n",
      "15119                        Legacy of Ys: Books I & II                0   \n",
      "15292                                    Steal Princess                0   \n",
      "15535                          Runaway: A Twist of Fate                0   \n",
      "15704        Writing and Speaking Beautiful Japanese DS                0   \n",
      "15795           Shonen Jump's Yu-Gi-Oh! GX Card Almanac                0   \n",
      "15953                 PDC World Championship Darts 2008                0   \n",
      "15957               Strongest Tokyo University Shogi DS             1985   \n",
      "15998                                       Jet Impulse                0   \n",
      "16017                                      Dream Dancer                0   \n",
      "16288                                            Shorts                0   \n",
      "\n",
      "      platform  \n",
      "3081        DS  \n",
      "3289        DS  \n",
      "5443        DS  \n",
      "5932        DS  \n",
      "9664        DS  \n",
      "9855        DS  \n",
      "10486       DS  \n",
      "10612       DS  \n",
      "10686       DS  \n",
      "10764       DS  \n",
      "10837       DS  \n",
      "11338       DS  \n",
      "11790       DS  \n",
      "12003       DS  \n",
      "12241       DS  \n",
      "12524       DS  \n",
      "12880       DS  \n",
      "13060       DS  \n",
      "13142       DS  \n",
      "14126       DS  \n",
      "14350       DS  \n",
      "15119       DS  \n",
      "15292       DS  \n",
      "15535       DS  \n",
      "15704       DS  \n",
      "15795       DS  \n",
      "15953       DS  \n",
      "15957       DS  \n",
      "15998       DS  \n",
      "16017       DS  \n",
      "16288       DS  \n"
     ]
    }
   ],
   "source": [
    "# Verificar qué juegos de DS aparecen antes de 2004\n",
    "ds_antes_2004 = df_games[(df_games['platform'] == 'DS') & (df_games['year_of_release'] < 2004)]\n",
    "print(ds_antes_2004[['name', 'year_of_release', 'platform']])"
   ]
  },
  {
   "cell_type": "code",
   "execution_count": 11,
   "metadata": {},
   "outputs": [],
   "source": [
    "#arreglar dato erroneo\n",
    "problema = df_games[df_games['name'] == 'Strongest Tokyo University Shogi DS']\n",
    "df_games.loc[df_games['name'] == 'Strongest Tokyo University Shogi DS', 'year_of_release'] = 2007"
   ]
  },
  {
   "cell_type": "markdown",
   "metadata": {},
   "source": [
    "<div class=\"alert alert-block alert-success\">\n",
    "<b>Comentario del revisor</b> <a class=\"tocSkip\"></a><br />\n",
    "Bien hecho!<br/>\n",
    "\n",
    "Hiciste un buen trabajo al cambiar los nombres de las columnas, sus tipos de datos y reemplazar los valores ausentes\n",
    "</div>\n"
   ]
  },
  {
   "cell_type": "code",
   "execution_count": 12,
   "metadata": {},
   "outputs": [
    {
     "name": "stdout",
     "output_type": "stream",
     "text": [
      "Juegos por año: 0        269\n",
      "1980       9\n",
      "1981      46\n",
      "1982      36\n",
      "1983      17\n",
      "1984      14\n",
      "1985      13\n",
      "1986      21\n",
      "1987      16\n",
      "1988      15\n",
      "1989      17\n",
      "1990      16\n",
      "1991      41\n",
      "1992      43\n",
      "1993      62\n",
      "1994     121\n",
      "1995     219\n",
      "1996     263\n",
      "1997     289\n",
      "1998     379\n",
      "1999     338\n",
      "2000     350\n",
      "2001     482\n",
      "2002     829\n",
      "2003     775\n",
      "2004     762\n",
      "2005     939\n",
      "2006    1006\n",
      "2007    1198\n",
      "2008    1427\n",
      "2009    1426\n",
      "2010    1255\n",
      "2011    1136\n",
      "2012     653\n",
      "2013     544\n",
      "2014     581\n",
      "2015     606\n",
      "2016     502\n",
      "Name: year_of_release, dtype: int64\n"
     ]
    }
   ],
   "source": [
    "#ver cuantos juegos fueron lanzados por año\n",
    "juegos_por_año = df_games['year_of_release'].value_counts().sort_index()\n",
    "print(\"Juegos por año:\",juegos_por_año)"
   ]
  },
  {
   "cell_type": "markdown",
   "metadata": {},
   "source": [
    "<div class=\"alert alert-block alert-success\">\n",
    "<b>Comentario del revisor</b> <a class=\"tocSkip\"></a><br />\n",
    "Correcto!<br/>\n",
    "\n",
    "Buena manera de presentar los datos, podemos ver en la tabla la tendencia de los videojuegos con un incremento constante en años anteriores que ha empezado a ir en declive en los últimos años\n",
    "</div>\n"
   ]
  },
  {
   "cell_type": "code",
   "execution_count": 13,
   "metadata": {},
   "outputs": [
    {
     "name": "stdout",
     "output_type": "stream",
     "text": [
      "Total de juegos:  16715\n",
      "Juegos sin año especificado (año = 0):  269\n"
     ]
    }
   ],
   "source": [
    "# Ver estadísticas básicas\n",
    "print(\"Total de juegos: \",len(df_games))\n",
    "print(\"Juegos sin año especificado (año = 0): \", (df_games['year_of_release'] == 0).sum())"
   ]
  },
  {
   "cell_type": "code",
   "execution_count": 14,
   "metadata": {},
   "outputs": [
    {
     "name": "stdout",
     "output_type": "stream",
     "text": [
      "          na_sales  eu_sales  jp_sales  other_sales\n",
      "platform                                           \n",
      "2600         90.60      5.47      0.00         0.91\n",
      "3DO           0.00      0.00      0.10         0.00\n",
      "3DS          83.49     61.48    100.67        13.36\n",
      "DC            5.43      1.69      8.56         0.27\n",
      "DS          382.40    188.89    175.57        59.26\n",
      "GB          114.32     47.82     85.12         8.20\n",
      "GBA         187.54     75.25     47.33         7.73\n",
      "GC          133.46     38.71     21.58         5.18\n",
      "GEN          21.05      6.05      2.70         0.97\n",
      "GG            0.00      0.00      0.04         0.00\n",
      "N64         139.02     41.06     34.22         4.38\n",
      "NES         125.94     21.15     98.65         5.31\n",
      "NG            0.00      0.00      1.44         0.00\n",
      "PC           94.53    142.44      0.17        22.38\n",
      "PCFX          0.00      0.00      0.03         0.00\n",
      "PS          336.52    213.61    139.82        40.91\n",
      "PS2         583.84    339.29    139.20       193.44\n",
      "PS3         393.49    330.29     80.19       135.68\n",
      "PS4         108.74    141.09     15.96        48.35\n",
      "PSP         109.17     66.68     76.78        41.42\n",
      "PSV          12.58     13.12     21.91         6.46\n",
      "SAT           0.72      0.54     32.26         0.07\n",
      "SCD           1.00      0.36      0.45         0.05\n",
      "SNES         61.23     19.04    116.55         3.22\n",
      "TG16          0.00      0.00      0.16         0.00\n",
      "WS            0.00      0.00      1.42         0.00\n",
      "Wii         496.90    262.21     69.33        79.07\n",
      "WiiU         38.10     25.13     13.01         5.95\n",
      "X360        602.47    270.76     12.43        85.76\n",
      "XB          186.69     60.95      1.38         8.72\n",
      "XOne         93.12     51.59      0.34        14.27\n"
     ]
    }
   ],
   "source": [
    "#agrupar por plataforma\n",
    "juegos_por_plataforma = df_games.groupby(\"platform\")[[\"na_sales\",\"eu_sales\",\"jp_sales\",\"other_sales\"]].sum()\n",
    "print(juegos_por_plataforma)"
   ]
  },
  {
   "cell_type": "markdown",
   "metadata": {},
   "source": [
    "<div class=\"alert alert-block alert-success\">\n",
    "<b>Comentario del revisor</b> <a class=\"tocSkip\"></a><br />\n",
    "\n",
    "Buena manera de agrupar los datos por regiones, esto es un claro indicativo de que estas pensando en hallazgos importantes\n",
    "</div>\n"
   ]
  },
  {
   "cell_type": "code",
   "execution_count": 19,
   "metadata": {},
   "outputs": [
    {
     "name": "stdout",
     "output_type": "stream",
     "text": [
      "['PS2', 'X360', 'PS3', 'Wii', 'DS', 'PS', 'GBA', 'PS4', 'PSP', 'PC']\n"
     ]
    }
   ],
   "source": [
    "#ver las plataformas con mas ventas\n",
    "columnas_de_ventas=[\"na_sales\",\"eu_sales\",\"jp_sales\",\"other_sales\"]\n",
    "for row in columnas_de_ventas:\n",
    "    juegos_por_plataforma['suma_total'] = juegos_por_plataforma[columnas_de_ventas].sum(axis=1)\n",
    "top_plataformas = juegos_por_plataforma['suma_total'].sort_values(ascending=False).head(10).index.tolist()\n",
    "print(top_plataformas)"
   ]
  },
  {
   "cell_type": "code",
   "execution_count": 20,
   "metadata": {},
   "outputs": [
    {
     "name": "stdout",
     "output_type": "stream",
     "text": [
      "    año plataforma  ventas_totales\n",
      "0  1985         PC            0.04\n",
      "1  1988         PC            0.03\n",
      "2  1992         PC            3.03\n",
      "3  1994         PC           12.87\n",
      "4  1994         PS            6.03\n",
      "5  1995         PC            4.22\n",
      "6  1995         PS           35.96\n",
      "7  1996         PC           10.58\n",
      "8  1996         PS           94.70\n",
      "9  1997         PC           11.27\n"
     ]
    }
   ],
   "source": [
    "#ver ventas por año del top\n",
    "df_top = df_games[df_games['platform'].isin(top_plataformas)]\n",
    "df_top_sin_año_0 = df_top[df_top['year_of_release'] != 0]\n",
    "ventas_por_año_plataforma = df_top_sin_año_0.groupby(['year_of_release', 'platform'])[columnas_de_ventas].sum().sum(axis=1).reset_index()\n",
    "ventas_por_año_plataforma.columns = ['año', 'plataforma', 'ventas_totales']\n",
    "print(ventas_por_año_plataforma.head(10))"
   ]
  },
  {
   "cell_type": "code",
   "execution_count": 21,
   "metadata": {},
   "outputs": [
    {
     "name": "stdout",
     "output_type": "stream",
     "text": [
      "Evolución de ventas por año y plataforma:\n",
      "plataforma      DS    GBA     PC      PS     PS2  PS3  PS4    PSP  Wii  X360\n",
      "año                                                                         \n",
      "1985          0.00   0.00   0.04    0.00    0.00  0.0  0.0   0.00  0.0  0.00\n",
      "1988          0.00   0.00   0.03    0.00    0.00  0.0  0.0   0.00  0.0  0.00\n",
      "1992          0.00   0.00   3.03    0.00    0.00  0.0  0.0   0.00  0.0  0.00\n",
      "1994          0.00   0.00  12.87    6.03    0.00  0.0  0.0   0.00  0.0  0.00\n",
      "1995          0.00   0.00   4.22   35.96    0.00  0.0  0.0   0.00  0.0  0.00\n",
      "1996          0.00   0.00  10.58   94.70    0.00  0.0  0.0   0.00  0.0  0.00\n",
      "1997          0.00   0.00  11.27  136.17    0.00  0.0  0.0   0.00  0.0  0.00\n",
      "1998          0.00   0.00   3.26  169.49    0.00  0.0  0.0   0.00  0.0  0.00\n",
      "1999          0.00   0.00   4.74  144.53    0.00  0.0  0.0   0.00  0.0  0.00\n",
      "2000          0.00   0.07   4.66   96.37   39.17  0.0  0.0   0.00  0.0  0.00\n",
      "2001          0.00  61.53   5.47   35.59  166.43  0.0  0.0   0.00  0.0  0.00\n",
      "2002          0.00  74.16   8.57    6.67  205.38  0.0  0.0   0.00  0.0  0.00\n",
      "2003          0.00  56.67   8.84    2.07  184.31  0.0  0.0   0.00  0.0  0.00\n",
      "2004         17.27  77.91  10.39    0.00  211.81  0.0  0.0   7.06  0.0  0.00\n",
      "2005        130.14  33.86   4.37    0.00  160.66  0.0  0.0  43.84  0.0  8.25\n"
     ]
    }
   ],
   "source": [
    "#crear tabla pivote\n",
    "tabla_evolucion = ventas_por_año_plataforma.pivot(index='año', columns='plataforma', values='ventas_totales').fillna(0)\n",
    "print(\"Evolución de ventas por año y plataforma:\")\n",
    "print(tabla_evolucion.head(15))"
   ]
  },
  {
   "cell_type": "code",
   "execution_count": 22,
   "metadata": {},
   "outputs": [
    {
     "name": "stdout",
     "output_type": "stream",
     "text": [
      "plataforma\n",
      "PS      2003\n",
      "GBA     2007\n",
      "PS2     2011\n",
      "DS      2013\n",
      "PSP     2015\n",
      "PC      2016\n",
      "PS3     2016\n",
      "PS4     2016\n",
      "Wii     2016\n",
      "X360    2016\n",
      "dtype: int64\n"
     ]
    }
   ],
   "source": [
    "#ver años de inicio de las consolas\n",
    "ultimo_año_por_plataforma = (\n",
    "    tabla_evolucion[tabla_evolucion > 0]  \n",
    "    .apply(lambda col: col.last_valid_index())  \n",
    ")\n",
    "print(ultimo_año_por_plataforma.sort_values())"
   ]
  },
  {
   "cell_type": "code",
   "execution_count": 23,
   "metadata": {},
   "outputs": [
    {
     "name": "stdout",
     "output_type": "stream",
     "text": [
      "            primer_año  ultimo_año  años_activa\n",
      "plataforma                                     \n",
      "PC                1985        2016           31\n",
      "PS                1994        2003            9\n",
      "GBA               2000        2007            7\n",
      "PS2               2000        2011           11\n",
      "DS                2004        2013            9\n",
      "PSP               2004        2015           11\n",
      "X360              2005        2016           11\n",
      "PS3               2006        2016           10\n",
      "Wii               2006        2016           10\n",
      "PS4               2013        2016            3\n"
     ]
    }
   ],
   "source": [
    "# ver años de actividad de las consolas\n",
    "primer_año = tabla_evolucion[tabla_evolucion > 0].apply(lambda col: col.first_valid_index())\n",
    "ultimo_año = tabla_evolucion[tabla_evolucion > 0].apply(lambda col: col.last_valid_index())\n",
    "\n",
    "duracion_vida = ultimo_año - primer_año\n",
    "\n",
    "resumen_plataformas = pd.DataFrame({\n",
    "    'primer_año': primer_año,\n",
    "    'ultimo_año': ultimo_año,\n",
    "    'años_activa': duracion_vida\n",
    "}).sort_values('primer_año')\n",
    "print(resumen_plataformas)"
   ]
  },
  {
   "cell_type": "markdown",
   "metadata": {},
   "source": [
    "<div class=\"alert alert-block alert-success\">\n",
    "<b>Comentario del revisor</b> <a class=\"tocSkip\"></a><br />\n",
    "Bien hecho!<br/>\n",
    "\n",
    "Buena manera de mostrar los datos, gracias a la tabla podemos observar el tiempo de vida de cada una de las plataformas, la PC aunque es la que lleva más tiempo sabemos que es una plataforma que ha evolucionado continuamente\n",
    "</div>\n"
   ]
  },
  {
   "cell_type": "markdown",
   "metadata": {},
   "source": [
    "los datos reelevantes para 2017 son para aquellas consolas que para el año 2016 sigan activas"
   ]
  },
  {
   "cell_type": "code",
   "execution_count": 24,
   "metadata": {},
   "outputs": [
    {
     "name": "stdout",
     "output_type": "stream",
     "text": [
      "     año plataforma  ventas_totales\n",
      "36  2005         DS          130.14\n",
      "37  2005        GBA           33.86\n",
      "38  2005         PC            4.37\n",
      "39  2005        PS2          160.66\n",
      "40  2005        PSP           43.84\n"
     ]
    }
   ],
   "source": [
    "#obtener consolas cuyos años de actividad aun esten en 2016\n",
    "ventas_a_partir_2005 = ventas_por_año_plataforma[ventas_por_año_plataforma[\"año\"]>=2005]\n",
    "print(ventas_a_partir_2005.head())"
   ]
  },
  {
   "cell_type": "code",
   "execution_count": 25,
   "metadata": {},
   "outputs": [
    {
     "name": "stdout",
     "output_type": "stream",
     "text": [
      "Evolución de ventas por año y plataforma:\n",
      "plataforma      DS    GBA     PC     PS2     PS3     PS4    PSP     Wii  \\\n",
      "año                                                                       \n",
      "2005        130.14  33.86   4.37  160.66    0.00    0.00  43.84    0.00   \n",
      "2006        119.81   5.28   2.85  103.42   20.96    0.00  55.32  137.15   \n",
      "2007        146.96   3.40   9.28   75.99   73.19    0.00  46.93  152.77   \n",
      "2008        145.31   0.00  12.42   53.90  118.52    0.00  34.55  171.32   \n",
      "2009        119.54   0.00  16.91   26.40  130.93    0.00  37.78  206.97   \n",
      "2010         85.02   0.00  24.28    5.64  142.17    0.00  35.04  127.95   \n",
      "2011         26.18   0.00  35.03    0.45  156.78    0.00  17.82   59.65   \n",
      "2012         11.01   0.00  23.22    0.00  107.36    0.00   7.69   21.71   \n",
      "2013          1.54   0.00  12.38    0.00  113.25   25.99   3.14    8.59   \n",
      "2014          0.00   0.00  13.28    0.00   47.76  100.00   0.24    3.75   \n",
      "2015          0.00   0.00   8.52    0.00   16.82  118.90   0.12    1.14   \n",
      "2016          0.00   0.00   5.25    0.00    3.60   69.25   0.00    0.18   \n",
      "\n",
      "plataforma    X360  \n",
      "año                 \n",
      "2005          8.25  \n",
      "2006         51.62  \n",
      "2007         95.41  \n",
      "2008        135.26  \n",
      "2009        120.29  \n",
      "2010        170.03  \n",
      "2011        143.84  \n",
      "2012         99.74  \n",
      "2013         88.58  \n",
      "2014         34.74  \n",
      "2015         11.96  \n",
      "2016          1.52  \n"
     ]
    }
   ],
   "source": [
    "tabla_evolucion_2005 = ventas_a_partir_2005.pivot(index='año', columns='plataforma', values='ventas_totales').fillna(0)\n",
    "print(\"Evolución de ventas por año y plataforma:\")\n",
    "print(tabla_evolucion_2005)"
   ]
  },
  {
   "cell_type": "code",
   "execution_count": 26,
   "metadata": {},
   "outputs": [],
   "source": [
    "#eliminar las consolas descontinuadas\n",
    "tabla_evolucion_2005.drop(['GBA','PS2','DS','PSP'],axis=1,inplace=True)"
   ]
  },
  {
   "cell_type": "code",
   "execution_count": 27,
   "metadata": {},
   "outputs": [
    {
     "data": {
      "text/html": [
       "<div>\n",
       "<style scoped>\n",
       "    .dataframe tbody tr th:only-of-type {\n",
       "        vertical-align: middle;\n",
       "    }\n",
       "\n",
       "    .dataframe tbody tr th {\n",
       "        vertical-align: top;\n",
       "    }\n",
       "\n",
       "    .dataframe thead th {\n",
       "        text-align: right;\n",
       "    }\n",
       "</style>\n",
       "<table border=\"1\" class=\"dataframe\">\n",
       "  <thead>\n",
       "    <tr style=\"text-align: right;\">\n",
       "      <th>plataforma</th>\n",
       "      <th>PC</th>\n",
       "      <th>PS3</th>\n",
       "      <th>PS4</th>\n",
       "      <th>Wii</th>\n",
       "      <th>X360</th>\n",
       "    </tr>\n",
       "    <tr>\n",
       "      <th>año</th>\n",
       "      <th></th>\n",
       "      <th></th>\n",
       "      <th></th>\n",
       "      <th></th>\n",
       "      <th></th>\n",
       "    </tr>\n",
       "  </thead>\n",
       "  <tbody>\n",
       "    <tr>\n",
       "      <th>2005</th>\n",
       "      <td>4.37</td>\n",
       "      <td>0.00</td>\n",
       "      <td>0.00</td>\n",
       "      <td>0.00</td>\n",
       "      <td>8.25</td>\n",
       "    </tr>\n",
       "    <tr>\n",
       "      <th>2006</th>\n",
       "      <td>2.85</td>\n",
       "      <td>20.96</td>\n",
       "      <td>0.00</td>\n",
       "      <td>137.15</td>\n",
       "      <td>51.62</td>\n",
       "    </tr>\n",
       "    <tr>\n",
       "      <th>2007</th>\n",
       "      <td>9.28</td>\n",
       "      <td>73.19</td>\n",
       "      <td>0.00</td>\n",
       "      <td>152.77</td>\n",
       "      <td>95.41</td>\n",
       "    </tr>\n",
       "    <tr>\n",
       "      <th>2008</th>\n",
       "      <td>12.42</td>\n",
       "      <td>118.52</td>\n",
       "      <td>0.00</td>\n",
       "      <td>171.32</td>\n",
       "      <td>135.26</td>\n",
       "    </tr>\n",
       "    <tr>\n",
       "      <th>2009</th>\n",
       "      <td>16.91</td>\n",
       "      <td>130.93</td>\n",
       "      <td>0.00</td>\n",
       "      <td>206.97</td>\n",
       "      <td>120.29</td>\n",
       "    </tr>\n",
       "    <tr>\n",
       "      <th>2010</th>\n",
       "      <td>24.28</td>\n",
       "      <td>142.17</td>\n",
       "      <td>0.00</td>\n",
       "      <td>127.95</td>\n",
       "      <td>170.03</td>\n",
       "    </tr>\n",
       "    <tr>\n",
       "      <th>2011</th>\n",
       "      <td>35.03</td>\n",
       "      <td>156.78</td>\n",
       "      <td>0.00</td>\n",
       "      <td>59.65</td>\n",
       "      <td>143.84</td>\n",
       "    </tr>\n",
       "    <tr>\n",
       "      <th>2012</th>\n",
       "      <td>23.22</td>\n",
       "      <td>107.36</td>\n",
       "      <td>0.00</td>\n",
       "      <td>21.71</td>\n",
       "      <td>99.74</td>\n",
       "    </tr>\n",
       "    <tr>\n",
       "      <th>2013</th>\n",
       "      <td>12.38</td>\n",
       "      <td>113.25</td>\n",
       "      <td>25.99</td>\n",
       "      <td>8.59</td>\n",
       "      <td>88.58</td>\n",
       "    </tr>\n",
       "    <tr>\n",
       "      <th>2014</th>\n",
       "      <td>13.28</td>\n",
       "      <td>47.76</td>\n",
       "      <td>100.00</td>\n",
       "      <td>3.75</td>\n",
       "      <td>34.74</td>\n",
       "    </tr>\n",
       "    <tr>\n",
       "      <th>2015</th>\n",
       "      <td>8.52</td>\n",
       "      <td>16.82</td>\n",
       "      <td>118.90</td>\n",
       "      <td>1.14</td>\n",
       "      <td>11.96</td>\n",
       "    </tr>\n",
       "    <tr>\n",
       "      <th>2016</th>\n",
       "      <td>5.25</td>\n",
       "      <td>3.60</td>\n",
       "      <td>69.25</td>\n",
       "      <td>0.18</td>\n",
       "      <td>1.52</td>\n",
       "    </tr>\n",
       "  </tbody>\n",
       "</table>\n",
       "</div>"
      ],
      "text/plain": [
       "plataforma     PC     PS3     PS4     Wii    X360\n",
       "año                                              \n",
       "2005         4.37    0.00    0.00    0.00    8.25\n",
       "2006         2.85   20.96    0.00  137.15   51.62\n",
       "2007         9.28   73.19    0.00  152.77   95.41\n",
       "2008        12.42  118.52    0.00  171.32  135.26\n",
       "2009        16.91  130.93    0.00  206.97  120.29\n",
       "2010        24.28  142.17    0.00  127.95  170.03\n",
       "2011        35.03  156.78    0.00   59.65  143.84\n",
       "2012        23.22  107.36    0.00   21.71   99.74\n",
       "2013        12.38  113.25   25.99    8.59   88.58\n",
       "2014        13.28   47.76  100.00    3.75   34.74\n",
       "2015         8.52   16.82  118.90    1.14   11.96\n",
       "2016         5.25    3.60   69.25    0.18    1.52"
      ]
     },
     "execution_count": 27,
     "metadata": {},
     "output_type": "execute_result"
    }
   ],
   "source": [
    "tabla_evolucion_2005"
   ]
  },
  {
   "cell_type": "code",
   "execution_count": 28,
   "metadata": {},
   "outputs": [
    {
     "data": {
      "image/png": "[encoded data removed]",
      "text/plain": [
       "<Figure size 1200x800 with 1 Axes>"
      ]
     },
     "metadata": {},
     "output_type": "display_data"
    }
   ],
   "source": [
    "#crear diagrama de caja\n",
    "tabla_evolucion_2005.boxplot(figsize=(12, 8))\n",
    "plt.title('Distribución de Ventas por Consola Activa (2005-2016)')\n",
    "plt.xlabel('Plataformas')\n",
    "plt.ylabel('Ventas (millones)')\n",
    "plt.grid(True, alpha=0.3)\n",
    "plt.tight_layout()\n",
    "plt.show()"
   ]
  },
  {
   "cell_type": "markdown",
   "metadata": {},
   "source": [
    "<div class=\"alert alert-block alert-success\">\n",
    "<b>Comentario del revisor</b> <a class=\"tocSkip\"></a><br />\n",
    "Bien hecho!\n",
    "\n",
    "El diagrama de caja nos muestra como en algunas plataformas las ventas estan consolidadas mientras que en otras consolas las ventas son muy disparejas lo que incrementa el rango intercuartil\n",
    "</div>\n"
   ]
  },
  {
   "cell_type": "code",
   "execution_count": 25,
   "metadata": {},
   "outputs": [
    {
     "data": {
      "text/html": [
       "<div>\n",
       "<style scoped>\n",
       "    .dataframe tbody tr th:only-of-type {\n",
       "        vertical-align: middle;\n",
       "    }\n",
       "\n",
       "    .dataframe tbody tr th {\n",
       "        vertical-align: top;\n",
       "    }\n",
       "\n",
       "    .dataframe thead th {\n",
       "        text-align: right;\n",
       "    }\n",
       "</style>\n",
       "<table border=\"1\" class=\"dataframe\">\n",
       "  <thead>\n",
       "    <tr style=\"text-align: right;\">\n",
       "      <th></th>\n",
       "      <th>name</th>\n",
       "      <th>platform</th>\n",
       "      <th>year_of_release</th>\n",
       "      <th>genre</th>\n",
       "      <th>na_sales</th>\n",
       "      <th>eu_sales</th>\n",
       "      <th>jp_sales</th>\n",
       "      <th>other_sales</th>\n",
       "      <th>critic_score</th>\n",
       "      <th>user_score</th>\n",
       "      <th>rating</th>\n",
       "    </tr>\n",
       "  </thead>\n",
       "  <tbody>\n",
       "    <tr>\n",
       "      <th>0</th>\n",
       "      <td>Wii Sports</td>\n",
       "      <td>Wii</td>\n",
       "      <td>2006</td>\n",
       "      <td>Sports</td>\n",
       "      <td>41.36</td>\n",
       "      <td>28.96</td>\n",
       "      <td>3.77</td>\n",
       "      <td>8.45</td>\n",
       "      <td>76.000000</td>\n",
       "      <td>8.000000</td>\n",
       "      <td>E</td>\n",
       "    </tr>\n",
       "    <tr>\n",
       "      <th>1</th>\n",
       "      <td>Super Mario Bros.</td>\n",
       "      <td>NES</td>\n",
       "      <td>1985</td>\n",
       "      <td>Platform</td>\n",
       "      <td>29.08</td>\n",
       "      <td>3.58</td>\n",
       "      <td>6.81</td>\n",
       "      <td>0.77</td>\n",
       "      <td>68.967679</td>\n",
       "      <td>7.125046</td>\n",
       "      <td>NaN</td>\n",
       "    </tr>\n",
       "    <tr>\n",
       "      <th>2</th>\n",
       "      <td>Mario Kart Wii</td>\n",
       "      <td>Wii</td>\n",
       "      <td>2008</td>\n",
       "      <td>Racing</td>\n",
       "      <td>15.68</td>\n",
       "      <td>12.76</td>\n",
       "      <td>3.79</td>\n",
       "      <td>3.29</td>\n",
       "      <td>82.000000</td>\n",
       "      <td>8.300000</td>\n",
       "      <td>E</td>\n",
       "    </tr>\n",
       "    <tr>\n",
       "      <th>3</th>\n",
       "      <td>Wii Sports Resort</td>\n",
       "      <td>Wii</td>\n",
       "      <td>2009</td>\n",
       "      <td>Sports</td>\n",
       "      <td>15.61</td>\n",
       "      <td>10.93</td>\n",
       "      <td>3.28</td>\n",
       "      <td>2.95</td>\n",
       "      <td>80.000000</td>\n",
       "      <td>8.000000</td>\n",
       "      <td>E</td>\n",
       "    </tr>\n",
       "    <tr>\n",
       "      <th>4</th>\n",
       "      <td>Pokemon Red/Pokemon Blue</td>\n",
       "      <td>GB</td>\n",
       "      <td>1996</td>\n",
       "      <td>Role-Playing</td>\n",
       "      <td>11.27</td>\n",
       "      <td>8.89</td>\n",
       "      <td>10.22</td>\n",
       "      <td>1.00</td>\n",
       "      <td>68.967679</td>\n",
       "      <td>7.125046</td>\n",
       "      <td>NaN</td>\n",
       "    </tr>\n",
       "    <tr>\n",
       "      <th>...</th>\n",
       "      <td>...</td>\n",
       "      <td>...</td>\n",
       "      <td>...</td>\n",
       "      <td>...</td>\n",
       "      <td>...</td>\n",
       "      <td>...</td>\n",
       "      <td>...</td>\n",
       "      <td>...</td>\n",
       "      <td>...</td>\n",
       "      <td>...</td>\n",
       "      <td>...</td>\n",
       "    </tr>\n",
       "    <tr>\n",
       "      <th>16710</th>\n",
       "      <td>Samurai Warriors: Sanada Maru</td>\n",
       "      <td>PS3</td>\n",
       "      <td>2016</td>\n",
       "      <td>Action</td>\n",
       "      <td>0.00</td>\n",
       "      <td>0.00</td>\n",
       "      <td>0.01</td>\n",
       "      <td>0.00</td>\n",
       "      <td>68.967679</td>\n",
       "      <td>7.125046</td>\n",
       "      <td>NaN</td>\n",
       "    </tr>\n",
       "    <tr>\n",
       "      <th>16711</th>\n",
       "      <td>LMA Manager 2007</td>\n",
       "      <td>X360</td>\n",
       "      <td>2006</td>\n",
       "      <td>Sports</td>\n",
       "      <td>0.00</td>\n",
       "      <td>0.01</td>\n",
       "      <td>0.00</td>\n",
       "      <td>0.00</td>\n",
       "      <td>68.967679</td>\n",
       "      <td>7.125046</td>\n",
       "      <td>NaN</td>\n",
       "    </tr>\n",
       "    <tr>\n",
       "      <th>16712</th>\n",
       "      <td>Haitaka no Psychedelica</td>\n",
       "      <td>PSV</td>\n",
       "      <td>2016</td>\n",
       "      <td>Adventure</td>\n",
       "      <td>0.00</td>\n",
       "      <td>0.00</td>\n",
       "      <td>0.01</td>\n",
       "      <td>0.00</td>\n",
       "      <td>68.967679</td>\n",
       "      <td>7.125046</td>\n",
       "      <td>NaN</td>\n",
       "    </tr>\n",
       "    <tr>\n",
       "      <th>16713</th>\n",
       "      <td>Spirits &amp; Spells</td>\n",
       "      <td>GBA</td>\n",
       "      <td>2003</td>\n",
       "      <td>Platform</td>\n",
       "      <td>0.01</td>\n",
       "      <td>0.00</td>\n",
       "      <td>0.00</td>\n",
       "      <td>0.00</td>\n",
       "      <td>68.967679</td>\n",
       "      <td>7.125046</td>\n",
       "      <td>NaN</td>\n",
       "    </tr>\n",
       "    <tr>\n",
       "      <th>16714</th>\n",
       "      <td>Winning Post 8 2016</td>\n",
       "      <td>PSV</td>\n",
       "      <td>2016</td>\n",
       "      <td>Simulation</td>\n",
       "      <td>0.00</td>\n",
       "      <td>0.00</td>\n",
       "      <td>0.01</td>\n",
       "      <td>0.00</td>\n",
       "      <td>68.967679</td>\n",
       "      <td>7.125046</td>\n",
       "      <td>NaN</td>\n",
       "    </tr>\n",
       "  </tbody>\n",
       "</table>\n",
       "<p>16715 rows × 11 columns</p>\n",
       "</div>"
      ],
      "text/plain": [
       "                                name platform  year_of_release         genre  \\\n",
       "0                         Wii Sports      Wii             2006        Sports   \n",
       "1                  Super Mario Bros.      NES             1985      Platform   \n",
       "2                     Mario Kart Wii      Wii             2008        Racing   \n",
       "3                  Wii Sports Resort      Wii             2009        Sports   \n",
       "4           Pokemon Red/Pokemon Blue       GB             1996  Role-Playing   \n",
       "...                              ...      ...              ...           ...   \n",
       "16710  Samurai Warriors: Sanada Maru      PS3             2016        Action   \n",
       "16711               LMA Manager 2007     X360             2006        Sports   \n",
       "16712        Haitaka no Psychedelica      PSV             2016     Adventure   \n",
       "16713               Spirits & Spells      GBA             2003      Platform   \n",
       "16714            Winning Post 8 2016      PSV             2016    Simulation   \n",
       "\n",
       "       na_sales  eu_sales  jp_sales  other_sales  critic_score  user_score  \\\n",
       "0         41.36     28.96      3.77         8.45     76.000000    8.000000   \n",
       "1         29.08      3.58      6.81         0.77     68.967679    7.125046   \n",
       "2         15.68     12.76      3.79         3.29     82.000000    8.300000   \n",
       "3         15.61     10.93      3.28         2.95     80.000000    8.000000   \n",
       "4         11.27      8.89     10.22         1.00     68.967679    7.125046   \n",
       "...         ...       ...       ...          ...           ...         ...   \n",
       "16710      0.00      0.00      0.01         0.00     68.967679    7.125046   \n",
       "16711      0.00      0.01      0.00         0.00     68.967679    7.125046   \n",
       "16712      0.00      0.00      0.01         0.00     68.967679    7.125046   \n",
       "16713      0.01      0.00      0.00         0.00     68.967679    7.125046   \n",
       "16714      0.00      0.00      0.01         0.00     68.967679    7.125046   \n",
       "\n",
       "      rating  \n",
       "0          E  \n",
       "1        NaN  \n",
       "2          E  \n",
       "3          E  \n",
       "4        NaN  \n",
       "...      ...  \n",
       "16710    NaN  \n",
       "16711    NaN  \n",
       "16712    NaN  \n",
       "16713    NaN  \n",
       "16714    NaN  \n",
       "\n",
       "[16715 rows x 11 columns]"
      ]
     },
     "execution_count": 25,
     "metadata": {},
     "output_type": "execute_result"
    }
   ],
   "source": [
    "df_games"
   ]
  },
  {
   "cell_type": "markdown",
   "metadata": {},
   "source": [
    "<div class=\"alert alert-block alert-warning\">\n",
    "<b>Comentario del revisor</b> <a class=\"tocSkip\"></a><br />\n",
    "\n",
    "Debemos evitar hacer impresiones completas de los datos, además esto no aporta algún hallazgo importante al proyecto\n",
    "</div>\n"
   ]
  },
  {
   "cell_type": "code",
   "execution_count": 29,
   "metadata": {},
   "outputs": [
    {
     "name": "stdout",
     "output_type": "stream",
     "text": [
      "                                name platform  year_of_release         genre  \\\n",
      "0                         Wii Sports      Wii             2006        Sports   \n",
      "1                  Super Mario Bros.      NES             1985      Platform   \n",
      "2                     Mario Kart Wii      Wii             2008        Racing   \n",
      "3                  Wii Sports Resort      Wii             2009        Sports   \n",
      "4           Pokemon Red/Pokemon Blue       GB             1996  Role-Playing   \n",
      "...                              ...      ...              ...           ...   \n",
      "16710  Samurai Warriors: Sanada Maru      PS3             2016        Action   \n",
      "16711               LMA Manager 2007     X360             2006        Sports   \n",
      "16712        Haitaka no Psychedelica      PSV             2016     Adventure   \n",
      "16713               Spirits & Spells      GBA             2003      Platform   \n",
      "16714            Winning Post 8 2016      PSV             2016    Simulation   \n",
      "\n",
      "       na_sales  eu_sales  jp_sales  other_sales  critic_score  user_score  \\\n",
      "0         41.36     28.96      3.77         8.45     76.000000    8.000000   \n",
      "1         29.08      3.58      6.81         0.77     68.967679    7.125046   \n",
      "2         15.68     12.76      3.79         3.29     82.000000    8.300000   \n",
      "3         15.61     10.93      3.28         2.95     80.000000    8.000000   \n",
      "4         11.27      8.89     10.22         1.00     68.967679    7.125046   \n",
      "...         ...       ...       ...          ...           ...         ...   \n",
      "16710      0.00      0.00      0.01         0.00     68.967679    7.125046   \n",
      "16711      0.00      0.01      0.00         0.00     68.967679    7.125046   \n",
      "16712      0.00      0.00      0.01         0.00     68.967679    7.125046   \n",
      "16713      0.01      0.00      0.00         0.00     68.967679    7.125046   \n",
      "16714      0.00      0.00      0.01         0.00     68.967679    7.125046   \n",
      "\n",
      "      rating  ventas_totales  \n",
      "0          E           82.54  \n",
      "1        NaN           40.24  \n",
      "2          E           35.52  \n",
      "3          E           32.77  \n",
      "4        NaN           31.38  \n",
      "...      ...             ...  \n",
      "16710    NaN            0.01  \n",
      "16711    NaN            0.01  \n",
      "16712    NaN            0.01  \n",
      "16713    NaN            0.01  \n",
      "16714    NaN            0.01  \n",
      "\n",
      "[16715 rows x 12 columns]\n"
     ]
    }
   ],
   "source": [
    "#agregar tabal de ventas totales al dataframe\n",
    "df_games['ventas_totales']=0\n",
    "columnas_de_ventas=[\"na_sales\",\"eu_sales\",\"jp_sales\",\"other_sales\"]\n",
    "for row in columnas_de_ventas:\n",
    "    df_games['ventas_totales'] = df_games[columnas_de_ventas].sum(axis=1)\n",
    "print(df_games)    "
   ]
  },
  {
   "cell_type": "code",
   "execution_count": 30,
   "metadata": {},
   "outputs": [
    {
     "data": {
      "image/png": "[encoded data removed]",
      "text/plain": [
       "<Figure size 640x480 with 1 Axes>"
      ]
     },
     "metadata": {},
     "output_type": "display_data"
    }
   ],
   "source": [
    "#evaluar la PS4\n",
    "solo_ps4=df_games[df_games[\"platform\"]==\"PS4\"].copy()\n",
    "solo_ps4[\"score_mean\"]=0\n",
    "solo_ps4[\"score_mean\"] = (solo_ps4[\"critic_score\"] + \n",
    "                                         solo_ps4[\"user_score\"]*10) / 2\n",
    "solo_ps4_criticas_ventas=solo_ps4[[\"score_mean\",\"ventas_totales\"]]\n",
    "solo_ps4_criticas_ventas.plot(kind=\"scatter\", x=\"score_mean\", y=\"ventas_totales\")\n",
    "plt.title('Correlación entre Reseñas Promedio y Ventas (PS4)')\n",
    "plt.xlabel('Score Promedio (Críticos + Usuarios)')\n",
    "plt.ylabel('Ventas Totales (millones)')\n",
    "plt.show()"
   ]
  },
  {
   "cell_type": "code",
   "execution_count": 31,
   "metadata": {},
   "outputs": [
    {
     "name": "stdout",
     "output_type": "stream",
     "text": [
      "Correlación entre reseñas y ventas:  0.155547687072043\n"
     ]
    }
   ],
   "source": [
    "#Verificar correlacion\n",
    "correlacion = solo_ps4_criticas_ventas[\"score_mean\"].corr(solo_ps4_criticas_ventas[\"ventas_totales\"])\n",
    "print(\"Correlación entre reseñas y ventas: \",correlacion)"
   ]
  },
  {
   "cell_type": "markdown",
   "metadata": {},
   "source": [
    "#existe una correlacion muy debil entre las ventas y la critica"
   ]
  },
  {
   "cell_type": "markdown",
   "metadata": {},
   "source": [
    "<div class=\"alert alert-block alert-success\">\n",
    "<b>Comentario del revisor</b> <a class=\"tocSkip\"></a><br />\n",
    "Correcto!\n",
    "\n",
    "Buena manera de mostrar la correlación entre las ventas y las reseñas, la correlación es debil-moderada por lo que no siempre las buenas reseñas van a implicar un gran numero de ventas\n",
    "</div>\n"
   ]
  },
  {
   "cell_type": "code",
   "execution_count": 32,
   "metadata": {},
   "outputs": [
    {
     "name": "stdout",
     "output_type": "stream",
     "text": [
      "genre\n",
      "Action          1744.17\n",
      "Sports          1331.27\n",
      "Shooter         1052.45\n",
      "Role-Playing     934.56\n",
      "Platform         827.77\n",
      "Misc             802.51\n",
      "Racing           728.67\n",
      "Fighting         447.53\n",
      "Simulation       389.97\n",
      "Puzzle           242.57\n",
      "Adventure        237.59\n",
      "Strategy         174.23\n",
      "Name: ventas_totales, dtype: float64\n"
     ]
    }
   ],
   "source": [
    "#Agrupar juegos por genero y verificar sus ventas\n",
    "ventas_por_genero=df_games.groupby(\"genre\")[\"ventas_totales\"].sum().sort_values(ascending=False)\n",
    "print(ventas_por_genero)"
   ]
  },
  {
   "cell_type": "code",
   "execution_count": 33,
   "metadata": {},
   "outputs": [
    {
     "data": {
      "image/png": "[encoded data removed]",
      "text/plain": [
       "<Figure size 640x480 with 1 Axes>"
      ]
     },
     "metadata": {},
     "output_type": "display_data"
    }
   ],
   "source": [
    "ventas_por_genero.plot(kind=\"bar\",color=\"red\")\n",
    "plt.title('Ventas(millones) por genero de juegos')\n",
    "plt.xlabel('Genero de juegos')\n",
    "plt.xticks(rotation=45)\n",
    "plt.ylabel('Ventas Totales (millones)')\n",
    "plt.show()"
   ]
  },
  {
   "cell_type": "markdown",
   "metadata": {},
   "source": [
    "#por una amplia diferencia el genero mas comprado es el de accion(casi alcanzando los 1750 millones) y el menos vendido es el de estrategia(no llegando a 250 millones)"
   ]
  },
  {
   "cell_type": "markdown",
   "metadata": {},
   "source": [
    "<div class=\"alert alert-block alert-success\">\n",
    "<b>Comentario del revisor</b> <a class=\"tocSkip\"></a><br />\n",
    "Correcto!\n",
    "\n",
    "Buena manera de presentar los datos, podemos ver claramente cuales son los géneros preferidos de las personas, las observaciones que haces me parecen buenas también\n",
    "</div>\n"
   ]
  },
  {
   "cell_type": "code",
   "execution_count": 34,
   "metadata": {},
   "outputs": [
    {
     "data": {
      "image/png": "[encoded data removed]",
      "text/plain": [
       "<Figure size 1800x600 with 3 Axes>"
      ]
     },
     "metadata": {},
     "output_type": "display_data"
    },
    {
     "name": "stdout",
     "output_type": "stream",
     "text": [
      "platform\n",
      "X360    602.47\n",
      "PS2     583.84\n",
      "Wii     496.90\n",
      "PS3     393.49\n",
      "DS      382.40\n",
      "Name: na_sales, dtype: float64 platform\n",
      "PS2     339.29\n",
      "PS3     330.29\n",
      "X360    270.76\n",
      "Wii     262.21\n",
      "PS      213.61\n",
      "Name: eu_sales, dtype: float64 platform\n",
      "DS      175.57\n",
      "PS      139.82\n",
      "PS2     139.20\n",
      "SNES    116.55\n",
      "3DS     100.67\n",
      "Name: jp_sales, dtype: float64\n"
     ]
    }
   ],
   "source": [
    "#crear perfiles de plataformas por region\n",
    "norteamerica_plataforma=df_games.groupby(\"platform\")[\"na_sales\"].sum().sort_values(ascending=False).head()\n",
    "europa_plataforma=df_games.groupby(\"platform\")[\"eu_sales\"].sum().sort_values(ascending=False).head()\n",
    "japon_plataforma=df_games.groupby(\"platform\")[\"jp_sales\"].sum().sort_values(ascending=False).head()\n",
    "\n",
    "fig, axes = plt.subplots(1, 3, figsize=(18, 6))\n",
    "\n",
    "norteamerica_plataforma.plot(kind='bar', ax=axes[0], color='blue', title='Norteamérica')\n",
    "europa_plataforma.plot(kind='bar', ax=axes[1], color='green', title='Europa')  \n",
    "japon_plataforma.plot(kind='bar', ax=axes[2], color='red', title='Japón')\n",
    "\n",
    "plt.tight_layout()\n",
    "plt.show()\n",
    "print(norteamerica_plataforma,europa_plataforma,japon_plataforma)"
   ]
  },
  {
   "cell_type": "markdown",
   "metadata": {},
   "source": [
    "se puede observar que la mayoria de ventas se realizan en norteamerica siendo la X360 la lider en esta region\n",
    "en europa la lider de ventas es la ps2 y en japon la ds, la unica consola en comun en el top de cada region es la PS2"
   ]
  },
  {
   "cell_type": "markdown",
   "metadata": {},
   "source": [
    "<div class=\"alert alert-block alert-success\">\n",
    "<b>Comentario del revisor</b> <a class=\"tocSkip\"></a><br />\n",
    "Correcto!\n",
    "\n",
    "Esta grafica nos cuenta cosas muy interesantes, Europa y Norteamerica con comportamientos algo similares mientras que Japón con una tendencia diferente en las ventas\n",
    "</div>\n"
   ]
  },
  {
   "cell_type": "code",
   "execution_count": 35,
   "metadata": {},
   "outputs": [
    {
     "data": {
      "image/png": "[encoded data removed]",
      "text/plain": [
       "<Figure size 1800x600 with 3 Axes>"
      ]
     },
     "metadata": {},
     "output_type": "display_data"
    },
    {
     "name": "stdout",
     "output_type": "stream",
     "text": [
      "genre\n",
      "Action      879.01\n",
      "Sports      684.43\n",
      "Shooter     592.24\n",
      "Platform    445.50\n",
      "Misc        407.27\n",
      "Name: na_sales, dtype: float64 genre\n",
      "Action     519.13\n",
      "Sports     376.79\n",
      "Shooter    317.34\n",
      "Racing     236.51\n",
      "Misc       212.74\n",
      "Name: eu_sales, dtype: float64 genre\n",
      "Role-Playing    355.41\n",
      "Action          161.43\n",
      "Sports          135.54\n",
      "Platform        130.83\n",
      "Misc            108.11\n",
      "Name: jp_sales, dtype: float64\n"
     ]
    }
   ],
   "source": [
    "#crear perfiles por generos por region\n",
    "norteamerica_genero=df_games.groupby(\"genre\")[\"na_sales\"].sum().sort_values(ascending=False).head()\n",
    "europa_genero=df_games.groupby(\"genre\")[\"eu_sales\"].sum().sort_values(ascending=False).head()\n",
    "japon_genero=df_games.groupby(\"genre\")[\"jp_sales\"].sum().sort_values(ascending=False).head()\n",
    "\n",
    "fig, axes = plt.subplots(1, 3, figsize=(18, 6))\n",
    "\n",
    "norteamerica_genero.plot(kind='bar', ax=axes[0], color='blue', title='Norteamérica')\n",
    "europa_genero.plot(kind='bar', ax=axes[1], color='green', title='Europa')  \n",
    "japon_genero.plot(kind='bar', ax=axes[2], color='red', title='Japón')\n",
    "\n",
    "plt.tight_layout()\n",
    "plt.show()\n",
    "\n",
    "print(norteamerica_genero,europa_genero,japon_genero)"
   ]
  },
  {
   "cell_type": "markdown",
   "metadata": {},
   "source": [
    "el genero mas comprado es el de accion en norteamerica y en europa, solo en japon ocupa el segundo lugar donde el lider son los juegos de rol"
   ]
  },
  {
   "cell_type": "markdown",
   "metadata": {},
   "source": [
    "<div class=\"alert alert-block alert-success\">\n",
    "<b>Comentario del revisor</b> <a class=\"tocSkip\"></a><br />\n",
    "Bien hecho!\n",
    "\n",
    "Una vez más el mercado japonés marcando una tendencia única\n",
    "</div>\n"
   ]
  },
  {
   "cell_type": "code",
   "execution_count": 36,
   "metadata": {},
   "outputs": [
    {
     "data": {
      "image/png": "[encoded data removed]",
      "text/plain": [
       "<Figure size 640x480 with 1 Axes>"
      ]
     },
     "metadata": {},
     "output_type": "display_data"
    }
   ],
   "source": [
    "#ver ventas segun el sistema de clasificacion\n",
    "ventas_segun_esrb=df_games.groupby(\"rating\")[\"ventas_totales\"].sum().sort_values(ascending=False)\n",
    "ventas_segun_esrb=ventas_segun_esrb.dropna()\n",
    "ventas_segun_esrb.plot(kind=\"bar\")\n",
    "plt.title('Ventas (millones) por clasificacion de juegos')\n",
    "plt.xlabel('clasificacion de juegos')\n",
    "plt.xticks(rotation=45)\n",
    "plt.ylabel('Ventas Totales (millones)')\n",
    "plt.show()"
   ]
  },
  {
   "cell_type": "markdown",
   "metadata": {},
   "source": [
    "se puede observar que las mayores ventas se realizan mientras la restriccion de edad es mas baja, con la \n",
    "unica excepcion de E10+ donde la venta se situa debajo de la M"
   ]
  },
  {
   "cell_type": "markdown",
   "metadata": {},
   "source": [
    "<div class=\"alert alert-block alert-warning\">\n",
    "<b>Comentario del revisor</b> <a class=\"tocSkip\"></a><br />\n",
    "\n",
    "Esta gráfica también debería estar agrupada por región\n",
    "</div>\n"
   ]
  },
  {
   "cell_type": "code",
   "execution_count": 37,
   "metadata": {},
   "outputs": [
    {
     "name": "stdout",
     "output_type": "stream",
     "text": [
      "H0: Las calificaciones promedio de los usuarios para las plataformas Xbox One y PC son las mismas.\n",
      "H1:  Las calificaciones promedio de los usuarios para las plataformas Xbox One y PC no son las mismas.\n",
      "Nivel de significancia: α = 0.05\n"
     ]
    }
   ],
   "source": [
    "#proponer hipotesis nula\n",
    "print(\"H0: Las calificaciones promedio de los usuarios para las plataformas Xbox One y PC son las mismas.\")\n",
    "print(\"H1:  Las calificaciones promedio de los usuarios para las plataformas Xbox One y PC no son las mismas.\")\n",
    "print(\"Nivel de significancia: α = 0.05\")\n",
    "\n"
   ]
  },
  {
   "cell_type": "code",
   "execution_count": 38,
   "metadata": {},
   "outputs": [],
   "source": [
    "Calificaciones_de_usuarios_xbox=df_games[df_games[\"platform\"]==\"XOne\"].dropna()\n",
    "Calificaciones_de_usuarios_pc=df_games[df_games[\"platform\"]==\"PC\"].dropna()"
   ]
  },
  {
   "cell_type": "code",
   "execution_count": 39,
   "metadata": {},
   "outputs": [
    {
     "name": "stdout",
     "output_type": "stream",
     "text": [
      "Valor p: 9.454393577034949e-07\n",
      "Rechazamos la hipótesis nula\n"
     ]
    }
   ],
   "source": [
    "#comprobar hipotesis\n",
    "alpha = 0.05\n",
    "results = st.ttest_ind(Calificaciones_de_usuarios_xbox['user_score'],Calificaciones_de_usuarios_pc['user_score'], equal_var=False)\n",
    "\n",
    "print(f'Valor p: {results.pvalue}')\n",
    "\n",
    "if (alpha>results.pvalue):\n",
    "    print(\"Rechazamos la hipótesis nula\")\n",
    "else:\n",
    "    print(\"No podemos rechazar la hipótesis nula\")"
   ]
  },
  {
   "cell_type": "markdown",
   "metadata": {},
   "source": [
    "se establecio un alpha en 0.05 y se verifico que los datasets fueran equivalentes y al tener un resultado bajo se rechaza la hipotesis"
   ]
  },
  {
   "cell_type": "code",
   "execution_count": 40,
   "metadata": {},
   "outputs": [
    {
     "name": "stdout",
     "output_type": "stream",
     "text": [
      "H0: Las calificaciones promedio de los usuarios para los géneros de Acción y Deportes son iguales.\n",
      "H1: Las calificaciones promedio de los usuarios para los géneros de Acción y Deportes son diferentes.\n",
      "Nivel de significancia: α = 0.05\n"
     ]
    }
   ],
   "source": [
    "#proponer hipotesis nula\n",
    "print(\"H0: Las calificaciones promedio de los usuarios para los géneros de Acción y Deportes son iguales.\")\n",
    "print(\"H1: Las calificaciones promedio de los usuarios para los géneros de Acción y Deportes son diferentes.\")\n",
    "print(\"Nivel de significancia: α = 0.05\")"
   ]
  },
  {
   "cell_type": "code",
   "execution_count": 41,
   "metadata": {},
   "outputs": [],
   "source": [
    "Calificaciones_promedio_accion=df_games[df_games[\"genre\"]==\"Action\"].dropna()\n",
    "Calificaciones_promedio_deportes=df_games[df_games[\"genre\"]==\"Sports\"].dropna()"
   ]
  },
  {
   "cell_type": "code",
   "execution_count": 42,
   "metadata": {},
   "outputs": [
    {
     "name": "stdout",
     "output_type": "stream",
     "text": [
      "Valor p: 0.26818462306828844\n",
      "No podemos rechazar la hipótesis nula\n"
     ]
    }
   ],
   "source": [
    "#comprobar hipotesis\n",
    "alpha = 0.05\n",
    "results = st.ttest_ind(Calificaciones_promedio_accion['user_score'],Calificaciones_promedio_deportes['user_score'], equal_var=False)\n",
    "\n",
    "print(f'Valor p: {results.pvalue}')\n",
    "\n",
    "if (alpha>results.pvalue):\n",
    "    print(\"Rechazamos la hipótesis nula\")\n",
    "else:\n",
    "    print(\"No podemos rechazar la hipótesis nula\")\n"
   ]
  },
  {
   "cell_type": "markdown",
   "metadata": {},
   "source": [
    "<div class=\"alert alert-block alert-success\">\n",
    "<b>Comentario del revisor</b> <a class=\"tocSkip\"></a><br />\n",
    "\n",
    "\n",
    "El planteamiento de la hipótesis me parece correcto en ambos casos, bien hecho!\n",
    "</div>\n"
   ]
  },
  {
   "cell_type": "markdown",
   "metadata": {},
   "source": [
    "se establecio un alpha en 0.05 y se verifico que los datasets fueran equivalentes y al tener un resultado bajo se rechaza la hipotesis"
   ]
  },
  {
   "cell_type": "markdown",
   "metadata": {},
   "source": [
    "fue un trabajo largo pero gratificante el poder realizarlo \n",
    "y espero que este correcto y cumpla con lo pedido"
   ]
  },
  {
   "cell_type": "markdown",
   "metadata": {},
   "source": [
    "## Comentario general del revisor\n",
    "<div class=\"alert alert-block alert-success\">\n",
    "<b>Comentario del revisor</b> <a class=\"tocSkip\"></a><br />\n",
    "Has realizado un buen trabajo, me doy cuenta de que has aplicado los conocimientos que has adquirido durante el curso, las observaciones que has hecho durante todo el ejercicio me han parecido bastante buenas, son un gran apoyo a la hora de revisar el proyecto ya que me dan a entender que el tema te ha quedado claro y has podido avanzar correctamente.\n",
    "\n",
    "    \n",
    "Continúa con el buen trabajo y mucho éxito en el siguiente Sprint!\n",
    "</div>\n"
   ]
  },
  {
   "cell_type": "markdown",
   "metadata": {},
   "source": [
    "<div class=\"alert alert-block alert-success\">\n",
    "<b>Aspectos positivos del proyecto</b> <a class=\"tocSkip\"></a><br />\n",
    "\n",
    "- Las observaciones intermedias, así como las conclusiones finales me parecen buenas\n",
    "- El proyecto esta ordenado\n",
    "    \n",
    "</div>\n",
    "\n",
    "<div class=\"alert alert-block alert-warning\">\n",
    "<b>Aspectos que pueden mejorar del proyecto</b> <a class=\"tocSkip\"></a><br />\n",
    "\n",
    "- Se pueden incluir más graficas para resaltar las observaciones o datos que muestras\n",
    "- Desarrollar un poco más las conclusiones finales, puedes añadir lo que te pareció complicado del proyecto, que mejoras se pueden hacer, etc.\n",
    "</div>\n"
   ]
  }
 ],
 "metadata": {
  "kernelspec": {
   "display_name": "Python 3 (ipykernel)",
   "language": "python",
   "name": "python3"
  },
  "language_info": {
   "codemirror_mode": {
    "name": "ipython",
    "version": 3
   },
   "file_extension": ".py",
   "mimetype": "text/x-python",
   "name": "python",
   "nbconvert_exporter": "python",
   "pygments_lexer": "ipython3",
   "version": "3.9.23"
  }
 },
 "nbformat": 4,
 "nbformat_minor": 4
}
